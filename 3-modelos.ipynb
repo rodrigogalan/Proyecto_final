{
 "cells": [
  {
   "cell_type": "markdown",
   "metadata": {},
   "source": [
    "# Entrenamiento de modelos"
   ]
  },
  {
   "cell_type": "markdown",
   "metadata": {},
   "source": [
    "## Importaciones"
   ]
  },
  {
   "cell_type": "markdown",
   "metadata": {},
   "source": [
    "### Librerias básicas"
   ]
  },
  {
   "cell_type": "code",
   "execution_count": 3,
   "metadata": {},
   "outputs": [],
   "source": [
    "import pandas as pd\n",
    "import numpy as np\n",
    "import seaborn as sns\n",
    "import matplotlib.pyplot as plt"
   ]
  },
  {
   "cell_type": "markdown",
   "metadata": {},
   "source": [
    "### Tratamiento y visualización de datos"
   ]
  },
  {
   "cell_type": "code",
   "execution_count": 4,
   "metadata": {},
   "outputs": [],
   "source": [
    "from scipy.stats import zscore\n",
    "from sklearn.metrics import mean_squared_error as mse\n",
    "from sklearn.preprocessing import StandardScaler\n",
    "from sklearn.model_selection import train_test_split\n",
    "from sklearn.metrics import confusion_matrix\n",
    "from sklearn.metrics import roc_auc_score, roc_curve, auc\n",
    "from hyperopt import fmin, hp, tpe, Trials, space_eval, STATUS_OK"
   ]
  },
  {
   "cell_type": "markdown",
   "metadata": {},
   "source": [
    "### Modelos"
   ]
  },
  {
   "cell_type": "code",
   "execution_count": 5,
   "metadata": {},
   "outputs": [],
   "source": [
    "from imblearn.over_sampling import RandomOverSampler\n",
    "from imblearn.under_sampling import RandomUnderSampler\n",
    "from sklearn.linear_model import LogisticRegression\n",
    "from sklearn.tree import DecisionTreeClassifier\n",
    "from lightgbm import LGBMClassifier\n",
    "from catboost import CatBoostClassifier"
   ]
  },
  {
   "cell_type": "markdown",
   "metadata": {},
   "source": [
    "### Funciones auxiliares"
   ]
  },
  {
   "cell_type": "code",
   "execution_count": 6,
   "metadata": {},
   "outputs": [],
   "source": [
    "from src.predicting_functions import *"
   ]
  },
  {
   "cell_type": "markdown",
   "metadata": {},
   "source": [
    "### Datos"
   ]
  },
  {
   "cell_type": "code",
   "execution_count": 5,
   "metadata": {},
   "outputs": [
    {
     "data": {
      "text/html": [
       "<div>\n",
       "<style scoped>\n",
       "    .dataframe tbody tr th:only-of-type {\n",
       "        vertical-align: middle;\n",
       "    }\n",
       "\n",
       "    .dataframe tbody tr th {\n",
       "        vertical-align: top;\n",
       "    }\n",
       "\n",
       "    .dataframe thead th {\n",
       "        text-align: right;\n",
       "    }\n",
       "</style>\n",
       "<table border=\"1\" class=\"dataframe\">\n",
       "  <thead>\n",
       "    <tr style=\"text-align: right;\">\n",
       "      <th></th>\n",
       "      <th>target</th>\n",
       "      <th>var_0</th>\n",
       "      <th>var_1</th>\n",
       "      <th>var_2</th>\n",
       "      <th>var_3</th>\n",
       "      <th>var_4</th>\n",
       "      <th>var_5</th>\n",
       "      <th>var_6</th>\n",
       "      <th>var_7</th>\n",
       "      <th>var_8</th>\n",
       "      <th>...</th>\n",
       "      <th>var_190</th>\n",
       "      <th>var_191</th>\n",
       "      <th>var_192</th>\n",
       "      <th>var_193</th>\n",
       "      <th>var_194</th>\n",
       "      <th>var_195</th>\n",
       "      <th>var_196</th>\n",
       "      <th>var_197</th>\n",
       "      <th>var_198</th>\n",
       "      <th>var_199</th>\n",
       "    </tr>\n",
       "  </thead>\n",
       "  <tbody>\n",
       "    <tr>\n",
       "      <th>0</th>\n",
       "      <td>0</td>\n",
       "      <td>8.9255</td>\n",
       "      <td>-6.7863</td>\n",
       "      <td>11.9081</td>\n",
       "      <td>5.0930</td>\n",
       "      <td>11.4607</td>\n",
       "      <td>-9.2834</td>\n",
       "      <td>5.1187</td>\n",
       "      <td>18.6266</td>\n",
       "      <td>-4.9200</td>\n",
       "      <td>...</td>\n",
       "      <td>4.4354</td>\n",
       "      <td>3.9642</td>\n",
       "      <td>3.1364</td>\n",
       "      <td>1.6910</td>\n",
       "      <td>18.5227</td>\n",
       "      <td>-2.3978</td>\n",
       "      <td>7.8784</td>\n",
       "      <td>8.5635</td>\n",
       "      <td>12.7803</td>\n",
       "      <td>-1.0914</td>\n",
       "    </tr>\n",
       "    <tr>\n",
       "      <th>1</th>\n",
       "      <td>0</td>\n",
       "      <td>11.5006</td>\n",
       "      <td>-4.1473</td>\n",
       "      <td>13.8588</td>\n",
       "      <td>5.3890</td>\n",
       "      <td>12.3622</td>\n",
       "      <td>7.0433</td>\n",
       "      <td>5.6208</td>\n",
       "      <td>16.5338</td>\n",
       "      <td>3.1468</td>\n",
       "      <td>...</td>\n",
       "      <td>7.6421</td>\n",
       "      <td>7.7214</td>\n",
       "      <td>2.5837</td>\n",
       "      <td>10.9516</td>\n",
       "      <td>15.4305</td>\n",
       "      <td>2.0339</td>\n",
       "      <td>8.1267</td>\n",
       "      <td>8.7889</td>\n",
       "      <td>18.3560</td>\n",
       "      <td>1.9518</td>\n",
       "    </tr>\n",
       "    <tr>\n",
       "      <th>2</th>\n",
       "      <td>0</td>\n",
       "      <td>8.6093</td>\n",
       "      <td>-2.7457</td>\n",
       "      <td>12.0805</td>\n",
       "      <td>7.8928</td>\n",
       "      <td>10.5825</td>\n",
       "      <td>-9.0837</td>\n",
       "      <td>6.9427</td>\n",
       "      <td>14.6155</td>\n",
       "      <td>-4.9193</td>\n",
       "      <td>...</td>\n",
       "      <td>2.9057</td>\n",
       "      <td>9.7905</td>\n",
       "      <td>1.6704</td>\n",
       "      <td>1.6858</td>\n",
       "      <td>21.6042</td>\n",
       "      <td>3.1417</td>\n",
       "      <td>-6.5213</td>\n",
       "      <td>8.2675</td>\n",
       "      <td>14.7222</td>\n",
       "      <td>0.3965</td>\n",
       "    </tr>\n",
       "    <tr>\n",
       "      <th>3</th>\n",
       "      <td>0</td>\n",
       "      <td>11.0604</td>\n",
       "      <td>-2.1518</td>\n",
       "      <td>8.9522</td>\n",
       "      <td>7.1957</td>\n",
       "      <td>12.5846</td>\n",
       "      <td>-1.8361</td>\n",
       "      <td>5.8428</td>\n",
       "      <td>14.9250</td>\n",
       "      <td>-5.8609</td>\n",
       "      <td>...</td>\n",
       "      <td>4.4666</td>\n",
       "      <td>4.7433</td>\n",
       "      <td>0.7178</td>\n",
       "      <td>1.4214</td>\n",
       "      <td>23.0347</td>\n",
       "      <td>-1.2706</td>\n",
       "      <td>-2.9275</td>\n",
       "      <td>10.2922</td>\n",
       "      <td>17.9697</td>\n",
       "      <td>-8.9996</td>\n",
       "    </tr>\n",
       "    <tr>\n",
       "      <th>4</th>\n",
       "      <td>0</td>\n",
       "      <td>9.8369</td>\n",
       "      <td>-1.4834</td>\n",
       "      <td>12.8746</td>\n",
       "      <td>6.6375</td>\n",
       "      <td>12.2772</td>\n",
       "      <td>2.4486</td>\n",
       "      <td>5.9405</td>\n",
       "      <td>19.2514</td>\n",
       "      <td>6.2654</td>\n",
       "      <td>...</td>\n",
       "      <td>-1.4905</td>\n",
       "      <td>9.5214</td>\n",
       "      <td>-0.1508</td>\n",
       "      <td>9.1942</td>\n",
       "      <td>13.2876</td>\n",
       "      <td>-1.5121</td>\n",
       "      <td>3.9267</td>\n",
       "      <td>9.5031</td>\n",
       "      <td>17.9974</td>\n",
       "      <td>-8.8104</td>\n",
       "    </tr>\n",
       "  </tbody>\n",
       "</table>\n",
       "<p>5 rows × 201 columns</p>\n",
       "</div>"
      ],
      "text/plain": [
       "   target    var_0   var_1    var_2   var_3    var_4   var_5   var_6    var_7  \\\n",
       "0       0   8.9255 -6.7863  11.9081  5.0930  11.4607 -9.2834  5.1187  18.6266   \n",
       "1       0  11.5006 -4.1473  13.8588  5.3890  12.3622  7.0433  5.6208  16.5338   \n",
       "2       0   8.6093 -2.7457  12.0805  7.8928  10.5825 -9.0837  6.9427  14.6155   \n",
       "3       0  11.0604 -2.1518   8.9522  7.1957  12.5846 -1.8361  5.8428  14.9250   \n",
       "4       0   9.8369 -1.4834  12.8746  6.6375  12.2772  2.4486  5.9405  19.2514   \n",
       "\n",
       "    var_8  ...  var_190  var_191  var_192  var_193  var_194  var_195  var_196  \\\n",
       "0 -4.9200  ...   4.4354   3.9642   3.1364   1.6910  18.5227  -2.3978   7.8784   \n",
       "1  3.1468  ...   7.6421   7.7214   2.5837  10.9516  15.4305   2.0339   8.1267   \n",
       "2 -4.9193  ...   2.9057   9.7905   1.6704   1.6858  21.6042   3.1417  -6.5213   \n",
       "3 -5.8609  ...   4.4666   4.7433   0.7178   1.4214  23.0347  -1.2706  -2.9275   \n",
       "4  6.2654  ...  -1.4905   9.5214  -0.1508   9.1942  13.2876  -1.5121   3.9267   \n",
       "\n",
       "   var_197  var_198  var_199  \n",
       "0   8.5635  12.7803  -1.0914  \n",
       "1   8.7889  18.3560   1.9518  \n",
       "2   8.2675  14.7222   0.3965  \n",
       "3  10.2922  17.9697  -8.9996  \n",
       "4   9.5031  17.9974  -8.8104  \n",
       "\n",
       "[5 rows x 201 columns]"
      ]
     },
     "execution_count": 5,
     "metadata": {},
     "output_type": "execute_result"
    }
   ],
   "source": [
    "train = pd.read_csv('/media/rodrigo/Rodrigo/train_modified.csv')\n",
    "train.head()"
   ]
  },
  {
   "cell_type": "code",
   "execution_count": 6,
   "metadata": {},
   "outputs": [
    {
     "data": {
      "text/html": [
       "<div>\n",
       "<style scoped>\n",
       "    .dataframe tbody tr th:only-of-type {\n",
       "        vertical-align: middle;\n",
       "    }\n",
       "\n",
       "    .dataframe tbody tr th {\n",
       "        vertical-align: top;\n",
       "    }\n",
       "\n",
       "    .dataframe thead th {\n",
       "        text-align: right;\n",
       "    }\n",
       "</style>\n",
       "<table border=\"1\" class=\"dataframe\">\n",
       "  <thead>\n",
       "    <tr style=\"text-align: right;\">\n",
       "      <th></th>\n",
       "      <th>var_0</th>\n",
       "      <th>var_1</th>\n",
       "      <th>var_2</th>\n",
       "      <th>var_3</th>\n",
       "      <th>var_4</th>\n",
       "      <th>var_5</th>\n",
       "      <th>var_6</th>\n",
       "      <th>var_7</th>\n",
       "      <th>var_8</th>\n",
       "      <th>var_9</th>\n",
       "      <th>...</th>\n",
       "      <th>var_190</th>\n",
       "      <th>var_191</th>\n",
       "      <th>var_192</th>\n",
       "      <th>var_193</th>\n",
       "      <th>var_194</th>\n",
       "      <th>var_195</th>\n",
       "      <th>var_196</th>\n",
       "      <th>var_197</th>\n",
       "      <th>var_198</th>\n",
       "      <th>var_199</th>\n",
       "    </tr>\n",
       "  </thead>\n",
       "  <tbody>\n",
       "    <tr>\n",
       "      <th>0</th>\n",
       "      <td>11.0656</td>\n",
       "      <td>7.7798</td>\n",
       "      <td>12.9536</td>\n",
       "      <td>9.4292</td>\n",
       "      <td>11.4327</td>\n",
       "      <td>-2.3805</td>\n",
       "      <td>5.8493</td>\n",
       "      <td>18.2675</td>\n",
       "      <td>2.1337</td>\n",
       "      <td>8.8100</td>\n",
       "      <td>...</td>\n",
       "      <td>-2.1556</td>\n",
       "      <td>11.8495</td>\n",
       "      <td>-1.4300</td>\n",
       "      <td>2.4508</td>\n",
       "      <td>13.7112</td>\n",
       "      <td>2.4669</td>\n",
       "      <td>4.3654</td>\n",
       "      <td>10.7200</td>\n",
       "      <td>15.4722</td>\n",
       "      <td>-8.7197</td>\n",
       "    </tr>\n",
       "    <tr>\n",
       "      <th>1</th>\n",
       "      <td>8.5304</td>\n",
       "      <td>1.2543</td>\n",
       "      <td>11.3047</td>\n",
       "      <td>5.1858</td>\n",
       "      <td>9.1974</td>\n",
       "      <td>-4.0117</td>\n",
       "      <td>6.0196</td>\n",
       "      <td>18.6316</td>\n",
       "      <td>-4.4131</td>\n",
       "      <td>5.9739</td>\n",
       "      <td>...</td>\n",
       "      <td>10.6165</td>\n",
       "      <td>8.8349</td>\n",
       "      <td>0.9403</td>\n",
       "      <td>10.1282</td>\n",
       "      <td>15.5765</td>\n",
       "      <td>0.4773</td>\n",
       "      <td>-1.4852</td>\n",
       "      <td>9.8714</td>\n",
       "      <td>19.1293</td>\n",
       "      <td>-20.9760</td>\n",
       "    </tr>\n",
       "    <tr>\n",
       "      <th>2</th>\n",
       "      <td>5.4827</td>\n",
       "      <td>-10.3581</td>\n",
       "      <td>10.1407</td>\n",
       "      <td>7.0479</td>\n",
       "      <td>10.2628</td>\n",
       "      <td>9.8052</td>\n",
       "      <td>4.8950</td>\n",
       "      <td>20.2537</td>\n",
       "      <td>1.5233</td>\n",
       "      <td>8.3442</td>\n",
       "      <td>...</td>\n",
       "      <td>-0.7484</td>\n",
       "      <td>10.9935</td>\n",
       "      <td>1.9803</td>\n",
       "      <td>2.1800</td>\n",
       "      <td>12.9813</td>\n",
       "      <td>2.1281</td>\n",
       "      <td>-7.1086</td>\n",
       "      <td>7.0618</td>\n",
       "      <td>19.8956</td>\n",
       "      <td>-23.1794</td>\n",
       "    </tr>\n",
       "    <tr>\n",
       "      <th>3</th>\n",
       "      <td>8.5374</td>\n",
       "      <td>-1.3222</td>\n",
       "      <td>12.0220</td>\n",
       "      <td>6.5749</td>\n",
       "      <td>8.8458</td>\n",
       "      <td>3.1744</td>\n",
       "      <td>4.9397</td>\n",
       "      <td>20.5660</td>\n",
       "      <td>3.3755</td>\n",
       "      <td>7.4578</td>\n",
       "      <td>...</td>\n",
       "      <td>9.5702</td>\n",
       "      <td>9.0766</td>\n",
       "      <td>1.6580</td>\n",
       "      <td>3.5813</td>\n",
       "      <td>15.1874</td>\n",
       "      <td>3.1656</td>\n",
       "      <td>3.9567</td>\n",
       "      <td>9.2295</td>\n",
       "      <td>13.0168</td>\n",
       "      <td>-4.2108</td>\n",
       "    </tr>\n",
       "    <tr>\n",
       "      <th>4</th>\n",
       "      <td>11.7058</td>\n",
       "      <td>-0.1327</td>\n",
       "      <td>14.1295</td>\n",
       "      <td>7.7506</td>\n",
       "      <td>9.1035</td>\n",
       "      <td>-8.5848</td>\n",
       "      <td>6.8595</td>\n",
       "      <td>10.6048</td>\n",
       "      <td>2.9890</td>\n",
       "      <td>7.1437</td>\n",
       "      <td>...</td>\n",
       "      <td>4.2259</td>\n",
       "      <td>9.1723</td>\n",
       "      <td>1.2835</td>\n",
       "      <td>3.3778</td>\n",
       "      <td>19.5542</td>\n",
       "      <td>-0.2860</td>\n",
       "      <td>-5.1612</td>\n",
       "      <td>7.2882</td>\n",
       "      <td>13.9260</td>\n",
       "      <td>-9.1846</td>\n",
       "    </tr>\n",
       "  </tbody>\n",
       "</table>\n",
       "<p>5 rows × 200 columns</p>\n",
       "</div>"
      ],
      "text/plain": [
       "     var_0    var_1    var_2   var_3    var_4   var_5   var_6    var_7  \\\n",
       "0  11.0656   7.7798  12.9536  9.4292  11.4327 -2.3805  5.8493  18.2675   \n",
       "1   8.5304   1.2543  11.3047  5.1858   9.1974 -4.0117  6.0196  18.6316   \n",
       "2   5.4827 -10.3581  10.1407  7.0479  10.2628  9.8052  4.8950  20.2537   \n",
       "3   8.5374  -1.3222  12.0220  6.5749   8.8458  3.1744  4.9397  20.5660   \n",
       "4  11.7058  -0.1327  14.1295  7.7506   9.1035 -8.5848  6.8595  10.6048   \n",
       "\n",
       "    var_8   var_9  ...  var_190  var_191  var_192  var_193  var_194  var_195  \\\n",
       "0  2.1337  8.8100  ...  -2.1556  11.8495  -1.4300   2.4508  13.7112   2.4669   \n",
       "1 -4.4131  5.9739  ...  10.6165   8.8349   0.9403  10.1282  15.5765   0.4773   \n",
       "2  1.5233  8.3442  ...  -0.7484  10.9935   1.9803   2.1800  12.9813   2.1281   \n",
       "3  3.3755  7.4578  ...   9.5702   9.0766   1.6580   3.5813  15.1874   3.1656   \n",
       "4  2.9890  7.1437  ...   4.2259   9.1723   1.2835   3.3778  19.5542  -0.2860   \n",
       "\n",
       "   var_196  var_197  var_198  var_199  \n",
       "0   4.3654  10.7200  15.4722  -8.7197  \n",
       "1  -1.4852   9.8714  19.1293 -20.9760  \n",
       "2  -7.1086   7.0618  19.8956 -23.1794  \n",
       "3   3.9567   9.2295  13.0168  -4.2108  \n",
       "4  -5.1612   7.2882  13.9260  -9.1846  \n",
       "\n",
       "[5 rows x 200 columns]"
      ]
     },
     "execution_count": 6,
     "metadata": {},
     "output_type": "execute_result"
    }
   ],
   "source": [
    "test = pd.read_csv('/media/rodrigo/Rodrigo/test_modified.csv')\n",
    "test.head()"
   ]
  },
  {
   "cell_type": "markdown",
   "metadata": {},
   "source": [
    "## Split en parte de entrenamiento y de testeo"
   ]
  },
  {
   "cell_type": "code",
   "execution_count": 7,
   "metadata": {},
   "outputs": [],
   "source": [
    "X = train.drop(columns=['target'])\n",
    "y=train.target\n",
    "\n",
    "\n",
    "X_train, X_test, y_train, y_test = train_test_split(X, y, test_size=0.2)"
   ]
  },
  {
   "cell_type": "markdown",
   "metadata": {},
   "source": [
    "## Prueba de modelos"
   ]
  },
  {
   "cell_type": "code",
   "execution_count": 8,
   "metadata": {},
   "outputs": [
    {
     "name": "stdout",
     "output_type": "stream",
     "text": [
      "LogisticRegression(max_iter=70, multi_class='multinomial')\n",
      "Train: 0.911575\n",
      "Test: 0.908425\n"
     ]
    },
    {
     "name": "stderr",
     "output_type": "stream",
     "text": [
      "/home/rodrigo/miniconda3/envs/proyectofinal/lib/python3.8/site-packages/sklearn/linear_model/_logistic.py:814: ConvergenceWarning: lbfgs failed to converge (status=1):\n",
      "STOP: TOTAL NO. of ITERATIONS REACHED LIMIT.\n",
      "\n",
      "Increase the number of iterations (max_iter) or scale the data as shown in:\n",
      "    https://scikit-learn.org/stable/modules/preprocessing.html\n",
      "Please also refer to the documentation for alternative solver options:\n",
      "    https://scikit-learn.org/stable/modules/linear_model.html#logistic-regression\n",
      "  n_iter_i = _check_optimize_result(\n"
     ]
    }
   ],
   "source": [
    "logreg=LogisticRegression(#C=0.01, \n",
    "                          tol=0.0001, \n",
    "                          max_iter=70,\n",
    "                          solver='lbfgs', \n",
    "                          multi_class='multinomial',)\n",
    "\n",
    "logreg.fit(X=X_train, y=y_train)\n",
    "y_pred=logreg.predict(X=X_test)\n",
    "train_score=logreg.score(X_train, y_train)  \n",
    "test_score=logreg.score(X_test, y_test)\n",
    "\n",
    "print(logreg)\n",
    "print('Train:', train_score)\n",
    "print('Test:', test_score) "
   ]
  },
  {
   "cell_type": "code",
   "execution_count": 9,
   "metadata": {},
   "outputs": [
    {
     "data": {
      "image/png": "[encoded data removed]",
      "text/plain": [
       "<Figure size 432x288 with 2 Axes>"
      ]
     },
     "metadata": {
      "needs_background": "light"
     },
     "output_type": "display_data"
    }
   ],
   "source": [
    "ax=sns.heatmap(confusion_matrix(y_test, y_pred)/sum(sum(confusion_matrix(y_test, y_pred))), annot=True)\n",
    "\n",
    "plt.title('Matriz confusion')\n",
    "plt.ylabel('Verdad')\n",
    "plt.xlabel('Prediccion')\n",
    "plt.show();"
   ]
  },
  {
   "cell_type": "code",
   "execution_count": 10,
   "metadata": {},
   "outputs": [
    {
     "data": {
      "image/png": "[encoded data removed]",
      "text/plain": [
       "<Figure size 432x288 with 1 Axes>"
      ]
     },
     "metadata": {
      "needs_background": "light"
     },
     "output_type": "display_data"
    }
   ],
   "source": [
    "fpr, tpr, _ = roc_curve(y_test, logreg.predict_proba(X_test)[:, 1])\n",
    "roc_auc = auc(fpr, tpr)\n",
    "\n",
    "plt.figure()\n",
    "plt.plot(fpr, tpr, color='red', label='ROC curve (area = %0.3f)' % roc_auc)\n",
    "plt.plot([0, 1], [0, 1], color='black', lw=2, linestyle='--')\n",
    "plt.xlim([0.0, 1.0])\n",
    "plt.ylim([0.0, 1.05])\n",
    "plt.xlabel('False Positive Rate')\n",
    "plt.ylabel('True Positive Rate')\n",
    "plt.title('ROC Curve')\n",
    "plt.legend(loc=\"upper left\")\n",
    "plt.show()"
   ]
  },
  {
   "cell_type": "code",
   "execution_count": 11,
   "metadata": {},
   "outputs": [
    {
     "data": {
      "text/plain": [
       "0    38735\n",
       "1     1265\n",
       "dtype: int64"
      ]
     },
     "execution_count": 11,
     "metadata": {},
     "output_type": "execute_result"
    }
   ],
   "source": [
    "y_pred = pd.DataFrame(y_pred)\n",
    "y_pred.value_counts()"
   ]
  },
  {
   "cell_type": "code",
   "execution_count": 12,
   "metadata": {},
   "outputs": [
    {
     "data": {
      "text/plain": [
       "0    35890\n",
       "1     4110\n",
       "Name: target, dtype: int64"
      ]
     },
     "execution_count": 12,
     "metadata": {},
     "output_type": "execute_result"
    }
   ],
   "source": [
    "y_test.value_counts()"
   ]
  },
  {
   "cell_type": "markdown",
   "metadata": {},
   "source": [
    "Como se puede ver, el modelo está sesgado. Al haber una mayor proporción de filas con valor de target 0 que 1, el modelo tiene muchos falsos negativos. Para solucionar esto hay que balancear los datos."
   ]
  },
  {
   "cell_type": "markdown",
   "metadata": {},
   "source": [
    "## Balanceo de datos"
   ]
  },
  {
   "cell_type": "code",
   "execution_count": 13,
   "metadata": {},
   "outputs": [
    {
     "name": "stdout",
     "output_type": "stream",
     "text": [
      "El porcentaje de 1 en el targes es: 0.89951\n",
      "El porcentaje de 0 en el targes es: 0.10049\n"
     ]
    },
    {
     "data": {
      "image/png": "[encoded data removed]",
      "text/plain": [
       "<Figure size 1152x576 with 1 Axes>"
      ]
     },
     "metadata": {
      "needs_background": "light"
     },
     "output_type": "display_data"
    }
   ],
   "source": [
    "train.target.value_counts().plot(kind='bar', figsize=(16,8));\n",
    "print('El porcentaje de 1 en el targes es:', list(train.target.value_counts())[0]/train.shape[0])\n",
    "print('El porcentaje de 0 en el targes es:', list(train.target.value_counts())[1]/train.shape[0])"
   ]
  },
  {
   "cell_type": "code",
   "execution_count": 9,
   "metadata": {},
   "outputs": [],
   "source": [
    "over = RandomOverSampler(sampling_strategy=1)\n",
    "under = RandomUnderSampler(sampling_strategy=1)\n",
    "\n",
    "# fit and apply the under fitting transformation\n",
    "X_under, y_under = under.fit_resample(train.drop(columns=['target']), train.target)\n",
    "\n",
    "# fit and apply the over fitting transformation\n",
    "X_over, y_over = over.fit_resample(train.drop(columns=['target']), train.target)\n",
    "\n",
    "train_under = pd.concat([y_under, X_under], axis=1)\n",
    "train_over = pd.concat([y_over, X_over], axis=1)\n"
   ]
  },
  {
   "cell_type": "code",
   "execution_count": 13,
   "metadata": {},
   "outputs": [
    {
     "name": "stdout",
     "output_type": "stream",
     "text": [
      "El porcentaje de 1 en el target es: 0.5\n",
      "El porcentaje de 0 en el target es: 0.5\n"
     ]
    },
    {
     "data": {
      "image/png": "[encoded data removed]",
      "text/plain": [
       "<Figure size 1152x576 with 1 Axes>"
      ]
     },
     "metadata": {
      "needs_background": "light"
     },
     "output_type": "display_data"
    }
   ],
   "source": [
    "train_under.target.value_counts().plot(kind='bar', figsize=(16,8));\n",
    "print('El porcentaje de 1 en el target es:', list(train_under.target.value_counts())[0]/train_under.shape[0])\n",
    "print('El porcentaje de 0 en el target es:', list(train_under.target.value_counts())[1]/train_under.shape[0])"
   ]
  },
  {
   "cell_type": "markdown",
   "metadata": {},
   "source": [
    "Ahora ya están los datos balanceados. Se han generado dos dataframes, uno donde se ha hecho over sampler: 'train_over' y otro donde se ha hecho under sampler: 'train_under'"
   ]
  },
  {
   "cell_type": "markdown",
   "metadata": {},
   "source": [
    "## Split de los datos balanceados"
   ]
  },
  {
   "cell_type": "code",
   "execution_count": 10,
   "metadata": {},
   "outputs": [],
   "source": [
    "X_under = train_under.drop(columns=['target'])\n",
    "y_under = train_under.target\n",
    "\n",
    "\n",
    "X_train_under, X_test_under, y_train_under, y_test_under = train_test_split(X_under, y_under, test_size=0.2)"
   ]
  },
  {
   "cell_type": "code",
   "execution_count": 15,
   "metadata": {},
   "outputs": [],
   "source": [
    "X_over = train_over.drop(columns=['target'])\n",
    "y_over = train_over.target\n",
    "\n",
    "\n",
    "X_train_over, X_test_over, y_train_over, y_test_over = train_test_split(X_over, y_over, test_size=0.2)"
   ]
  },
  {
   "cell_type": "markdown",
   "metadata": {},
   "source": [
    "## Comparción de modelos con dataframe undersampleado y oversampleado"
   ]
  },
  {
   "cell_type": "markdown",
   "metadata": {},
   "source": [
    "### Undersampleado"
   ]
  },
  {
   "cell_type": "code",
   "execution_count": 16,
   "metadata": {},
   "outputs": [
    {
     "ename": "NameError",
     "evalue": "name 'X_train_under' is not defined",
     "output_type": "error",
     "traceback": [
      "\u001b[0;31m---------------------------------------------------------------------------\u001b[0m",
      "\u001b[0;31mNameError\u001b[0m                                 Traceback (most recent call last)",
      "\u001b[0;32m<ipython-input-16-b48b934a35fb>\u001b[0m in \u001b[0;36m<module>\u001b[0;34m\u001b[0m\n\u001b[1;32m      5\u001b[0m                           multi_class='multinomial')\n\u001b[1;32m      6\u001b[0m \u001b[0;34m\u001b[0m\u001b[0m\n\u001b[0;32m----> 7\u001b[0;31m \u001b[0mlogreg\u001b[0m\u001b[0;34m.\u001b[0m\u001b[0mfit\u001b[0m\u001b[0;34m(\u001b[0m\u001b[0mX\u001b[0m\u001b[0;34m=\u001b[0m\u001b[0mX_train_under\u001b[0m\u001b[0;34m,\u001b[0m \u001b[0my\u001b[0m\u001b[0;34m=\u001b[0m\u001b[0my_train_under\u001b[0m\u001b[0;34m)\u001b[0m\u001b[0;34m\u001b[0m\u001b[0;34m\u001b[0m\u001b[0m\n\u001b[0m\u001b[1;32m      8\u001b[0m \u001b[0;34m\u001b[0m\u001b[0m\n\u001b[1;32m      9\u001b[0m \u001b[0my_pred_under\u001b[0m\u001b[0;34m=\u001b[0m\u001b[0mlogreg\u001b[0m\u001b[0;34m.\u001b[0m\u001b[0mpredict\u001b[0m\u001b[0;34m(\u001b[0m\u001b[0mX\u001b[0m\u001b[0;34m=\u001b[0m\u001b[0mX_test_under\u001b[0m\u001b[0;34m)\u001b[0m\u001b[0;34m\u001b[0m\u001b[0;34m\u001b[0m\u001b[0m\n",
      "\u001b[0;31mNameError\u001b[0m: name 'X_train_under' is not defined"
     ]
    }
   ],
   "source": [
    "logreg=LogisticRegression(#C=0.01, \n",
    "                          tol=0.0001, \n",
    "                          max_iter=70,\n",
    "                          solver='lbfgs', \n",
    "                          multi_class='multinomial')\n",
    "\n",
    "logreg.fit(X=X_train_under, y=y_train_under)\n",
    "\n",
    "y_pred_under=logreg.predict(X=X_test_under)\n",
    "\n",
    "train_score=logreg.score(X_train_under, y_train_under)\n",
    "test_score=logreg.score(X_test_under, y_test_under)\n",
    "\n",
    "print(logreg)\n",
    "print('Train:', train_score)\n",
    "print('Test: ', test_score) "
   ]
  },
  {
   "cell_type": "code",
   "execution_count": 17,
   "metadata": {},
   "outputs": [
    {
     "data": {
      "image/png": "[encoded data removed]",
      "text/plain": [
       "<Figure size 432x288 with 2 Axes>"
      ]
     },
     "metadata": {
      "needs_background": "light"
     },
     "output_type": "display_data"
    }
   ],
   "source": [
    "ax=sns.heatmap(confusion_matrix(y_test_under, y_pred_under)/sum(sum(confusion_matrix(y_test_under, y_pred_under))), annot=True)\n",
    "\n",
    "plt.title('Matriz confusion')\n",
    "plt.ylabel('Verdad')\n",
    "plt.xlabel('Prediccion')\n",
    "plt.show();"
   ]
  },
  {
   "cell_type": "code",
   "execution_count": 18,
   "metadata": {},
   "outputs": [
    {
     "name": "stdout",
     "output_type": "stream",
     "text": [
      "DecisionTreeClassifier(criterion='entropy', max_depth=6)\n",
      "Train: 0.6219057096653813\n",
      "Test: 0.6068407960199005\n"
     ]
    }
   ],
   "source": [
    "dtc=DecisionTreeClassifier(criterion='entropy', max_depth=6)\n",
    "\n",
    "dtc.fit(X=X_train_under, y=y_train_under)\n",
    "y_pred_under=logreg.predict(X=X_test_under)\n",
    "\n",
    "train_score=dtc.score(X_train_under, y_train_under)  \n",
    "test_score=dtc.score(X_test_under, y_test_under)\n",
    "\n",
    "print(dtc)\n",
    "print('Train:', train_score)\n",
    "print('Test:', test_score) "
   ]
  },
  {
   "cell_type": "code",
   "execution_count": 19,
   "metadata": {},
   "outputs": [
    {
     "data": {
      "image/png": "[encoded data removed]",
      "text/plain": [
       "<Figure size 432x288 with 2 Axes>"
      ]
     },
     "metadata": {
      "needs_background": "light"
     },
     "output_type": "display_data"
    }
   ],
   "source": [
    "ax=sns.heatmap(confusion_matrix(y_test_under, y_pred_under)/sum(sum(confusion_matrix(y_test_under, y_pred_under))), annot=True)\n",
    "\n",
    "plt.title('Matriz confusion')\n",
    "plt.ylabel('Verdad')\n",
    "plt.xlabel('Prediccion')\n",
    "plt.show();"
   ]
  },
  {
   "cell_type": "markdown",
   "metadata": {},
   "source": [
    "### Oversampleado"
   ]
  },
  {
   "cell_type": "code",
   "execution_count": 20,
   "metadata": {},
   "outputs": [
    {
     "name": "stdout",
     "output_type": "stream",
     "text": [
      "LogisticRegression(max_iter=70, multi_class='multinomial')\n",
      "Train: 0.7686342902207106\n",
      "Test:  0.7658870777226553\n"
     ]
    },
    {
     "name": "stderr",
     "output_type": "stream",
     "text": [
      "/home/rodrigo/miniconda3/envs/proyectofinal/lib/python3.8/site-packages/sklearn/linear_model/_logistic.py:814: ConvergenceWarning: lbfgs failed to converge (status=1):\n",
      "STOP: TOTAL NO. of ITERATIONS REACHED LIMIT.\n",
      "\n",
      "Increase the number of iterations (max_iter) or scale the data as shown in:\n",
      "    https://scikit-learn.org/stable/modules/preprocessing.html\n",
      "Please also refer to the documentation for alternative solver options:\n",
      "    https://scikit-learn.org/stable/modules/linear_model.html#logistic-regression\n",
      "  n_iter_i = _check_optimize_result(\n"
     ]
    }
   ],
   "source": [
    "logreg=LogisticRegression(#C=0.01, \n",
    "                          tol=0.0001, \n",
    "                          max_iter=70,\n",
    "                          solver='lbfgs', \n",
    "                          multi_class='multinomial')\n",
    "\n",
    "logreg.fit(X=X_train_over, y=y_train_over)\n",
    "\n",
    "y_pred_over=logreg.predict(X=X_test_over)\n",
    "\n",
    "train_score=logreg.score(X_train_over, y_train_over)\n",
    "test_score=logreg.score(X_test_over, y_test_over)\n",
    "\n",
    "print(logreg)\n",
    "print('Train:', train_score)\n",
    "print('Test: ', test_score) "
   ]
  },
  {
   "cell_type": "code",
   "execution_count": 21,
   "metadata": {},
   "outputs": [
    {
     "data": {
      "image/png": "[encoded data removed]",
      "text/plain": [
       "<Figure size 432x288 with 2 Axes>"
      ]
     },
     "metadata": {
      "needs_background": "light"
     },
     "output_type": "display_data"
    }
   ],
   "source": [
    "ax=sns.heatmap(confusion_matrix(y_test_over, y_pred_over)/sum(sum(confusion_matrix(y_test_over, y_pred_over))), annot=True)\n",
    "\n",
    "plt.title('Matriz confusion')\n",
    "plt.ylabel('Verdad')\n",
    "plt.xlabel('Prediccion')\n",
    "plt.show();"
   ]
  },
  {
   "cell_type": "code",
   "execution_count": 22,
   "metadata": {},
   "outputs": [
    {
     "name": "stdout",
     "output_type": "stream",
     "text": [
      "DecisionTreeClassifier(criterion='entropy', max_depth=6)\n",
      "Train: 0.6261503666929541\n",
      "Test: 0.6186128597434721\n"
     ]
    }
   ],
   "source": [
    "dtc=DecisionTreeClassifier(criterion='entropy', max_depth=6)\n",
    "\n",
    "dtc.fit(X=X_train_over, y=y_train_over)\n",
    "y_pred_over=logreg.predict(X=X_test_over)\n",
    "\n",
    "train_score=dtc.score(X_train_over, y_train_over)  \n",
    "test_score=dtc.score(X_test_over, y_test_over)\n",
    "\n",
    "print(dtc)\n",
    "print('Train:', train_score)\n",
    "print('Test:', test_score) "
   ]
  },
  {
   "cell_type": "code",
   "execution_count": 23,
   "metadata": {},
   "outputs": [
    {
     "data": {
      "image/png": "[encoded data removed]",
      "text/plain": [
       "<Figure size 432x288 with 2 Axes>"
      ]
     },
     "metadata": {
      "needs_background": "light"
     },
     "output_type": "display_data"
    }
   ],
   "source": [
    "ax=sns.heatmap(confusion_matrix(y_test_over, y_pred_over)/sum(sum(confusion_matrix(y_test_over, y_pred_over))), annot=True)\n",
    "\n",
    "plt.title('Matriz confusion')\n",
    "plt.ylabel('Verdad')\n",
    "plt.xlabel('Prediccion')\n",
    "plt.show();"
   ]
  },
  {
   "cell_type": "markdown",
   "metadata": {},
   "source": [
    "### Conclusiones"
   ]
  },
  {
   "cell_type": "markdown",
   "metadata": {},
   "source": [
    "Se ha comprobado que los resultados obtenidos con under y over sampling son bastante similares. Por tanto, por razones de optimización y porque no se añaden datos extras se van a entrenar los siguientes modelos con el dataframe under sampleado"
   ]
  },
  {
   "cell_type": "code",
   "execution_count": 11,
   "metadata": {},
   "outputs": [],
   "source": [
    "train = pd.concat([y_under, X_under], axis=1)"
   ]
  },
  {
   "cell_type": "code",
   "execution_count": 12,
   "metadata": {},
   "outputs": [
    {
     "data": {
      "text/plain": [
       "(40196, 201)"
      ]
     },
     "execution_count": 12,
     "metadata": {},
     "output_type": "execute_result"
    }
   ],
   "source": [
    "train.shape"
   ]
  },
  {
   "cell_type": "code",
   "execution_count": 13,
   "metadata": {},
   "outputs": [
    {
     "data": {
      "text/html": [
       "<div>\n",
       "<style scoped>\n",
       "    .dataframe tbody tr th:only-of-type {\n",
       "        vertical-align: middle;\n",
       "    }\n",
       "\n",
       "    .dataframe tbody tr th {\n",
       "        vertical-align: top;\n",
       "    }\n",
       "\n",
       "    .dataframe thead th {\n",
       "        text-align: right;\n",
       "    }\n",
       "</style>\n",
       "<table border=\"1\" class=\"dataframe\">\n",
       "  <thead>\n",
       "    <tr style=\"text-align: right;\">\n",
       "      <th></th>\n",
       "      <th>target</th>\n",
       "      <th>var_0</th>\n",
       "      <th>var_1</th>\n",
       "      <th>var_2</th>\n",
       "      <th>var_3</th>\n",
       "      <th>var_4</th>\n",
       "      <th>var_5</th>\n",
       "      <th>var_6</th>\n",
       "      <th>var_7</th>\n",
       "      <th>var_8</th>\n",
       "      <th>...</th>\n",
       "      <th>var_190</th>\n",
       "      <th>var_191</th>\n",
       "      <th>var_192</th>\n",
       "      <th>var_193</th>\n",
       "      <th>var_194</th>\n",
       "      <th>var_195</th>\n",
       "      <th>var_196</th>\n",
       "      <th>var_197</th>\n",
       "      <th>var_198</th>\n",
       "      <th>var_199</th>\n",
       "    </tr>\n",
       "  </thead>\n",
       "  <tbody>\n",
       "    <tr>\n",
       "      <th>0</th>\n",
       "      <td>0</td>\n",
       "      <td>11.4470</td>\n",
       "      <td>-1.3964</td>\n",
       "      <td>9.8012</td>\n",
       "      <td>6.8281</td>\n",
       "      <td>9.9564</td>\n",
       "      <td>-2.7376</td>\n",
       "      <td>6.2276</td>\n",
       "      <td>20.0962</td>\n",
       "      <td>2.8540</td>\n",
       "      <td>...</td>\n",
       "      <td>-4.1293</td>\n",
       "      <td>12.2111</td>\n",
       "      <td>3.3622</td>\n",
       "      <td>6.1279</td>\n",
       "      <td>19.2653</td>\n",
       "      <td>1.9060</td>\n",
       "      <td>-4.2048</td>\n",
       "      <td>10.1548</td>\n",
       "      <td>16.5609</td>\n",
       "      <td>-21.5676</td>\n",
       "    </tr>\n",
       "    <tr>\n",
       "      <th>1</th>\n",
       "      <td>0</td>\n",
       "      <td>15.4428</td>\n",
       "      <td>-1.0221</td>\n",
       "      <td>7.5388</td>\n",
       "      <td>5.3376</td>\n",
       "      <td>11.8056</td>\n",
       "      <td>-0.2999</td>\n",
       "      <td>5.2248</td>\n",
       "      <td>14.4918</td>\n",
       "      <td>2.0432</td>\n",
       "      <td>...</td>\n",
       "      <td>-6.5129</td>\n",
       "      <td>6.4216</td>\n",
       "      <td>1.0222</td>\n",
       "      <td>8.9296</td>\n",
       "      <td>19.5367</td>\n",
       "      <td>2.3799</td>\n",
       "      <td>4.9697</td>\n",
       "      <td>10.1797</td>\n",
       "      <td>15.2109</td>\n",
       "      <td>-16.4271</td>\n",
       "    </tr>\n",
       "    <tr>\n",
       "      <th>2</th>\n",
       "      <td>0</td>\n",
       "      <td>8.8875</td>\n",
       "      <td>-4.9268</td>\n",
       "      <td>9.9303</td>\n",
       "      <td>8.3236</td>\n",
       "      <td>10.5582</td>\n",
       "      <td>-12.5710</td>\n",
       "      <td>6.2273</td>\n",
       "      <td>13.1349</td>\n",
       "      <td>3.3039</td>\n",
       "      <td>...</td>\n",
       "      <td>2.9672</td>\n",
       "      <td>7.6818</td>\n",
       "      <td>2.2537</td>\n",
       "      <td>2.4904</td>\n",
       "      <td>16.8127</td>\n",
       "      <td>-1.3432</td>\n",
       "      <td>8.3645</td>\n",
       "      <td>10.3720</td>\n",
       "      <td>18.7492</td>\n",
       "      <td>7.4591</td>\n",
       "    </tr>\n",
       "    <tr>\n",
       "      <th>3</th>\n",
       "      <td>0</td>\n",
       "      <td>7.7631</td>\n",
       "      <td>-6.4983</td>\n",
       "      <td>12.7748</td>\n",
       "      <td>7.4900</td>\n",
       "      <td>10.7023</td>\n",
       "      <td>-13.6907</td>\n",
       "      <td>6.4808</td>\n",
       "      <td>14.7273</td>\n",
       "      <td>3.8216</td>\n",
       "      <td>...</td>\n",
       "      <td>3.3768</td>\n",
       "      <td>6.0767</td>\n",
       "      <td>3.6012</td>\n",
       "      <td>-5.3905</td>\n",
       "      <td>12.0727</td>\n",
       "      <td>-2.7861</td>\n",
       "      <td>3.6541</td>\n",
       "      <td>8.4755</td>\n",
       "      <td>11.5233</td>\n",
       "      <td>6.4306</td>\n",
       "    </tr>\n",
       "    <tr>\n",
       "      <th>4</th>\n",
       "      <td>0</td>\n",
       "      <td>8.6511</td>\n",
       "      <td>-7.2047</td>\n",
       "      <td>10.0985</td>\n",
       "      <td>9.0292</td>\n",
       "      <td>12.9640</td>\n",
       "      <td>-16.9991</td>\n",
       "      <td>5.0096</td>\n",
       "      <td>10.3526</td>\n",
       "      <td>-6.8915</td>\n",
       "      <td>...</td>\n",
       "      <td>-4.5334</td>\n",
       "      <td>9.4711</td>\n",
       "      <td>2.4917</td>\n",
       "      <td>12.2805</td>\n",
       "      <td>20.8884</td>\n",
       "      <td>-0.9244</td>\n",
       "      <td>6.7875</td>\n",
       "      <td>9.1021</td>\n",
       "      <td>21.6111</td>\n",
       "      <td>-4.0350</td>\n",
       "    </tr>\n",
       "  </tbody>\n",
       "</table>\n",
       "<p>5 rows × 201 columns</p>\n",
       "</div>"
      ],
      "text/plain": [
       "   target    var_0   var_1    var_2   var_3    var_4    var_5   var_6  \\\n",
       "0       0  11.4470 -1.3964   9.8012  6.8281   9.9564  -2.7376  6.2276   \n",
       "1       0  15.4428 -1.0221   7.5388  5.3376  11.8056  -0.2999  5.2248   \n",
       "2       0   8.8875 -4.9268   9.9303  8.3236  10.5582 -12.5710  6.2273   \n",
       "3       0   7.7631 -6.4983  12.7748  7.4900  10.7023 -13.6907  6.4808   \n",
       "4       0   8.6511 -7.2047  10.0985  9.0292  12.9640 -16.9991  5.0096   \n",
       "\n",
       "     var_7   var_8  ...  var_190  var_191  var_192  var_193  var_194  var_195  \\\n",
       "0  20.0962  2.8540  ...  -4.1293  12.2111   3.3622   6.1279  19.2653   1.9060   \n",
       "1  14.4918  2.0432  ...  -6.5129   6.4216   1.0222   8.9296  19.5367   2.3799   \n",
       "2  13.1349  3.3039  ...   2.9672   7.6818   2.2537   2.4904  16.8127  -1.3432   \n",
       "3  14.7273  3.8216  ...   3.3768   6.0767   3.6012  -5.3905  12.0727  -2.7861   \n",
       "4  10.3526 -6.8915  ...  -4.5334   9.4711   2.4917  12.2805  20.8884  -0.9244   \n",
       "\n",
       "   var_196  var_197  var_198  var_199  \n",
       "0  -4.2048  10.1548  16.5609 -21.5676  \n",
       "1   4.9697  10.1797  15.2109 -16.4271  \n",
       "2   8.3645  10.3720  18.7492   7.4591  \n",
       "3   3.6541   8.4755  11.5233   6.4306  \n",
       "4   6.7875   9.1021  21.6111  -4.0350  \n",
       "\n",
       "[5 rows x 201 columns]"
      ]
     },
     "execution_count": 13,
     "metadata": {},
     "output_type": "execute_result"
    }
   ],
   "source": [
    "train.head()"
   ]
  },
  {
   "cell_type": "code",
   "execution_count": 14,
   "metadata": {},
   "outputs": [],
   "source": [
    "X = train.drop(columns=['target'])\n",
    "y=train.target\n",
    "\n",
    "X_train, X_test, y_train, y_test = train_test_split(X, y, test_size=0.2)"
   ]
  },
  {
   "cell_type": "markdown",
   "metadata": {},
   "source": [
    "## Selección de datos con o sin outliers"
   ]
  },
  {
   "cell_type": "markdown",
   "metadata": {},
   "source": [
    "### Datos solo con under sampling"
   ]
  },
  {
   "cell_type": "code",
   "execution_count": 28,
   "metadata": {},
   "outputs": [
    {
     "name": "stderr",
     "output_type": "stream",
     "text": [
      "/home/rodrigo/miniconda3/envs/proyectofinal/lib/python3.8/site-packages/lightgbm/sklearn.py:726: UserWarning: 'early_stopping_rounds' argument is deprecated and will be removed in a future release of LightGBM. Pass 'early_stopping()' callback via 'callbacks' argument instead.\n",
      "  _log_warning(\"'early_stopping_rounds' argument is deprecated and will be removed in a future release of LightGBM. \"\n",
      "/home/rodrigo/miniconda3/envs/proyectofinal/lib/python3.8/site-packages/lightgbm/sklearn.py:736: UserWarning: 'verbose' argument is deprecated and will be removed in a future release of LightGBM. Pass 'log_evaluation()' callback via 'callbacks' argument instead.\n",
      "  _log_warning(\"'verbose' argument is deprecated and will be removed in a future release of LightGBM. \"\n"
     ]
    },
    {
     "name": "stdout",
     "output_type": "stream",
     "text": [
      "[50]\tvalid_0's auc: 0.838556\tvalid_0's binary_logloss: 0.536239\n",
      "[100]\tvalid_0's auc: 0.864107\tvalid_0's binary_logloss: 0.485153\n"
     ]
    }
   ],
   "source": [
    "lgbm = LGBMClassifier(n_jobs=-1)\n",
    "\n",
    "lgbm = lgbm.fit(X_train, y_train,eval_metric='auc',eval_set=(X_test , y_test),verbose=50,early_stopping_rounds= 50)"
   ]
  },
  {
   "cell_type": "code",
   "execution_count": 29,
   "metadata": {},
   "outputs": [
    {
     "data": {
      "image/png": "[encoded data removed]",
      "text/plain": [
       "<Figure size 432x288 with 2 Axes>"
      ]
     },
     "metadata": {
      "needs_background": "light"
     },
     "output_type": "display_data"
    }
   ],
   "source": [
    "ax=sns.heatmap(confusion_matrix(y_test, lgbm.predict(X_test))/sum(sum(confusion_matrix(y_test, lgbm.predict(X_test)))), annot=True)\n",
    "\n",
    "plt.title('Matriz confusion')\n",
    "plt.ylabel('Verdad')\n",
    "plt.xlabel('Prediccion')\n",
    "plt.show();"
   ]
  },
  {
   "cell_type": "code",
   "execution_count": 30,
   "metadata": {},
   "outputs": [
    {
     "name": "stdout",
     "output_type": "stream",
     "text": [
      "Train roc auc score for LGBM en el train:  0.9544818202844734\n",
      "Test roc auc score for LGBM en el test:  0.8641071561223226\n"
     ]
    }
   ],
   "source": [
    "print( 'Train roc auc score for LGBM en el train: ', roc_auc_score(y_train, lgbm.predict_proba(X_train)[:, 1]))\n",
    "print( 'Test roc auc score for LGBM en el test: ', roc_auc_score(y_test, lgbm.predict_proba(X_test)[:, 1]))"
   ]
  },
  {
   "cell_type": "code",
   "execution_count": 31,
   "metadata": {},
   "outputs": [
    {
     "data": {
      "image/png": "[encoded data removed]",
      "text/plain": [
       "<Figure size 432x288 with 1 Axes>"
      ]
     },
     "metadata": {
      "needs_background": "light"
     },
     "output_type": "display_data"
    }
   ],
   "source": [
    "\n",
    "fpr, tpr, _ = roc_curve(y_test, lgbm.predict_proba(X_test)[:, 1])\n",
    "roc_auc = auc(fpr, tpr)\n",
    "\n",
    "plt.figure()\n",
    "plt.plot(fpr, tpr, color='red', label='ROC curve (area = %0.3f)' % roc_auc)\n",
    "plt.plot([0, 1], [0, 1], color='black', lw=2, linestyle='--')\n",
    "plt.xlim([0.0, 1.0])\n",
    "plt.ylim([0.0, 1.05])\n",
    "plt.xlabel('False Positive Rate')\n",
    "plt.ylabel('True Positive Rate')\n",
    "plt.title('ROC Curve')\n",
    "plt.legend(loc=\"upper left\")\n",
    "plt.show()"
   ]
  },
  {
   "cell_type": "markdown",
   "metadata": {},
   "source": [
    "### Datos con limpieza de ouliers"
   ]
  },
  {
   "cell_type": "markdown",
   "metadata": {},
   "source": [
    "Ahora se va a probar el mismo modelo pero limpiando outliers alejados mas de 3 desviaciones estandar, para ver si mejora el desempeño"
   ]
  },
  {
   "cell_type": "code",
   "execution_count": 32,
   "metadata": {},
   "outputs": [
    {
     "data": {
      "text/plain": [
       "0.95290576176734"
      ]
     },
     "execution_count": 32,
     "metadata": {},
     "output_type": "execute_result"
    }
   ],
   "source": [
    "train[(np.abs(zscore(train.drop(columns=['target']))) < 3).all(axis=1)].shape[0]/train.shape[0]"
   ]
  },
  {
   "cell_type": "code",
   "execution_count": 33,
   "metadata": {},
   "outputs": [],
   "source": [
    "train_no_outliers_3std = train[(np.abs(zscore(train.drop(columns=['target']))) < 3).all(axis=1)]"
   ]
  },
  {
   "cell_type": "code",
   "execution_count": 34,
   "metadata": {},
   "outputs": [],
   "source": [
    "under = RandomUnderSampler(sampling_strategy=1)\n",
    "\n",
    "# fit and apply the under fitting transformation\n",
    "X_under, y_under = under.fit_resample(train_no_outliers_3std.drop(columns=['target']), train_no_outliers_3std.target)\n",
    "\n",
    "X_train, X_test, y_train, y_test = train_test_split(X_under, y_under, test_size=0.2)"
   ]
  },
  {
   "cell_type": "code",
   "execution_count": 35,
   "metadata": {},
   "outputs": [
    {
     "name": "stderr",
     "output_type": "stream",
     "text": [
      "/home/rodrigo/miniconda3/envs/proyectofinal/lib/python3.8/site-packages/lightgbm/sklearn.py:726: UserWarning: 'early_stopping_rounds' argument is deprecated and will be removed in a future release of LightGBM. Pass 'early_stopping()' callback via 'callbacks' argument instead.\n",
      "  _log_warning(\"'early_stopping_rounds' argument is deprecated and will be removed in a future release of LightGBM. \"\n",
      "/home/rodrigo/miniconda3/envs/proyectofinal/lib/python3.8/site-packages/lightgbm/sklearn.py:736: UserWarning: 'verbose' argument is deprecated and will be removed in a future release of LightGBM. Pass 'log_evaluation()' callback via 'callbacks' argument instead.\n",
      "  _log_warning(\"'verbose' argument is deprecated and will be removed in a future release of LightGBM. \"\n"
     ]
    },
    {
     "name": "stdout",
     "output_type": "stream",
     "text": [
      "[50]\tvalid_0's auc: 0.834868\tvalid_0's binary_logloss: 0.539596\n",
      "[100]\tvalid_0's auc: 0.857968\tvalid_0's binary_logloss: 0.491033\n"
     ]
    }
   ],
   "source": [
    "lgbm = LGBMClassifier(n_jobs=-1)\n",
    "\n",
    "lgbm = lgbm.fit(X_train, y_train,eval_metric='auc',eval_set=(X_test , y_test),verbose=50,early_stopping_rounds= 50)"
   ]
  },
  {
   "cell_type": "code",
   "execution_count": 36,
   "metadata": {},
   "outputs": [
    {
     "data": {
      "image/png": "[encoded data removed]",
      "text/plain": [
       "<Figure size 432x288 with 2 Axes>"
      ]
     },
     "metadata": {
      "needs_background": "light"
     },
     "output_type": "display_data"
    }
   ],
   "source": [
    "ax=sns.heatmap(confusion_matrix(y_test, lgbm.predict(X_test))/sum(sum(confusion_matrix(y_test, lgbm.predict(X_test)))), annot=True)\n",
    "\n",
    "plt.title('Matriz confusion')\n",
    "plt.ylabel('Verdad')\n",
    "plt.xlabel('Prediccion')\n",
    "plt.show();"
   ]
  },
  {
   "cell_type": "code",
   "execution_count": 37,
   "metadata": {},
   "outputs": [
    {
     "name": "stdout",
     "output_type": "stream",
     "text": [
      "Train roc auc score for LGBM en el train:  0.9569822589462201\n",
      "Test roc auc score for LGBM en el test:  0.8579678322476028\n"
     ]
    }
   ],
   "source": [
    "print( 'Train roc auc score for LGBM en el train: ', roc_auc_score(y_train, lgbm.predict_proba(X_train)[:, 1]))\n",
    "print( 'Test roc auc score for LGBM en el test: ', roc_auc_score(y_test, lgbm.predict_proba(X_test)[:, 1]))"
   ]
  },
  {
   "cell_type": "code",
   "execution_count": 38,
   "metadata": {},
   "outputs": [
    {
     "data": {
      "image/png": "[encoded data removed]",
      "text/plain": [
       "<Figure size 432x288 with 1 Axes>"
      ]
     },
     "metadata": {
      "needs_background": "light"
     },
     "output_type": "display_data"
    }
   ],
   "source": [
    "fpr, tpr, _ = roc_curve(y_test, lgbm.predict_proba(X_test)[:, 1])\n",
    "roc_auc = auc(fpr, tpr)\n",
    "\n",
    "plt.figure()\n",
    "plt.plot(fpr, tpr, color='red', label='ROC curve (area = %0.3f)' % roc_auc)\n",
    "plt.plot([0, 1], [0, 1], color='black', lw=2, linestyle='--')\n",
    "plt.xlim([0.0, 1.0])\n",
    "plt.ylim([0.0, 1.05])\n",
    "plt.xlabel('False Positive Rate')\n",
    "plt.ylabel('True Positive Rate')\n",
    "plt.title('ROC Curve')\n",
    "plt.legend(loc=\"upper left\")\n",
    "plt.show()"
   ]
  },
  {
   "cell_type": "markdown",
   "metadata": {},
   "source": [
    "### Datos con limpieza de outliers más agresiva"
   ]
  },
  {
   "cell_type": "markdown",
   "metadata": {},
   "source": [
    "Ahora se va a probar el mismo modelo pero limpiando outliers alejados mas de 2.5 desviaciones estandar, para ver si mejora el desempeño"
   ]
  },
  {
   "cell_type": "code",
   "execution_count": 39,
   "metadata": {},
   "outputs": [
    {
     "data": {
      "text/plain": [
       "0.4766892228082396"
      ]
     },
     "execution_count": 39,
     "metadata": {},
     "output_type": "execute_result"
    }
   ],
   "source": [
    "train[(np.abs(zscore(train.drop(columns=['target']))) < 2.5).all(axis=1)].shape[0]/train.shape[0]"
   ]
  },
  {
   "cell_type": "code",
   "execution_count": 40,
   "metadata": {},
   "outputs": [],
   "source": [
    "train_no_outliers_2_5std = train[(np.abs(zscore(train.drop(columns=['target']))) < 2.5).all(axis=1)]"
   ]
  },
  {
   "cell_type": "code",
   "execution_count": 41,
   "metadata": {},
   "outputs": [],
   "source": [
    "under = RandomUnderSampler(sampling_strategy=1)\n",
    "\n",
    "# fit and apply the under fitting transformation\n",
    "X_under, y_under = under.fit_resample(train_no_outliers_2_5std.drop(columns=['target']), train_no_outliers_2_5std.target)\n",
    "\n",
    "X_train, X_test, y_train, y_test = train_test_split(X_under, y_under, test_size=0.2)"
   ]
  },
  {
   "cell_type": "code",
   "execution_count": 42,
   "metadata": {},
   "outputs": [
    {
     "name": "stderr",
     "output_type": "stream",
     "text": [
      "/home/rodrigo/miniconda3/envs/proyectofinal/lib/python3.8/site-packages/lightgbm/sklearn.py:726: UserWarning: 'early_stopping_rounds' argument is deprecated and will be removed in a future release of LightGBM. Pass 'early_stopping()' callback via 'callbacks' argument instead.\n",
      "  _log_warning(\"'early_stopping_rounds' argument is deprecated and will be removed in a future release of LightGBM. \"\n",
      "/home/rodrigo/miniconda3/envs/proyectofinal/lib/python3.8/site-packages/lightgbm/sklearn.py:736: UserWarning: 'verbose' argument is deprecated and will be removed in a future release of LightGBM. Pass 'log_evaluation()' callback via 'callbacks' argument instead.\n",
      "  _log_warning(\"'verbose' argument is deprecated and will be removed in a future release of LightGBM. \"\n"
     ]
    },
    {
     "name": "stdout",
     "output_type": "stream",
     "text": [
      "[50]\tvalid_0's auc: 0.830711\tvalid_0's binary_logloss: 0.538834\n",
      "[100]\tvalid_0's auc: 0.85297\tvalid_0's binary_logloss: 0.492732\n"
     ]
    }
   ],
   "source": [
    "lgbm = LGBMClassifier(n_jobs=-1)\n",
    "\n",
    "lgbm = lgbm.fit(X_train, y_train,eval_metric='auc',eval_set=(X_test , y_test),verbose=50,early_stopping_rounds= 50)"
   ]
  },
  {
   "cell_type": "code",
   "execution_count": 43,
   "metadata": {},
   "outputs": [
    {
     "data": {
      "image/png": "[encoded data removed]",
      "text/plain": [
       "<Figure size 432x288 with 2 Axes>"
      ]
     },
     "metadata": {
      "needs_background": "light"
     },
     "output_type": "display_data"
    }
   ],
   "source": [
    "ax=sns.heatmap(confusion_matrix(y_test, lgbm.predict(X_test))/sum(sum(confusion_matrix(y_test, lgbm.predict(X_test)))), annot=True)\n",
    "\n",
    "plt.title('Matriz confusion')\n",
    "plt.ylabel('Verdad')\n",
    "plt.xlabel('Prediccion')\n",
    "plt.show();"
   ]
  },
  {
   "cell_type": "code",
   "execution_count": 44,
   "metadata": {},
   "outputs": [
    {
     "name": "stdout",
     "output_type": "stream",
     "text": [
      "Train roc auc score for LGBM en el train:  0.9875859333270892\n",
      "Test roc auc score for LGBM en el test:  0.8529696361575345\n"
     ]
    }
   ],
   "source": [
    "print( 'Train roc auc score for LGBM en el train: ', roc_auc_score(y_train, lgbm.predict_proba(X_train)[:, 1]))\n",
    "print( 'Test roc auc score for LGBM en el test: ', roc_auc_score(y_test, lgbm.predict_proba(X_test)[:, 1]))"
   ]
  },
  {
   "cell_type": "code",
   "execution_count": 45,
   "metadata": {},
   "outputs": [
    {
     "data": {
      "image/png": "[encoded data removed]",
      "text/plain": [
       "<Figure size 432x288 with 1 Axes>"
      ]
     },
     "metadata": {
      "needs_background": "light"
     },
     "output_type": "display_data"
    }
   ],
   "source": [
    "fpr, tpr, _ = roc_curve(y_test, lgbm.predict_proba(X_test)[:, 1])\n",
    "roc_auc = auc(fpr, tpr)\n",
    "\n",
    "plt.figure()\n",
    "plt.plot(fpr, tpr, color='red', label='ROC curve (area = %0.3f)' % roc_auc)\n",
    "plt.plot([0, 1], [0, 1], color='black', lw=2, linestyle='--')\n",
    "plt.xlim([0.0, 1.0])\n",
    "plt.ylim([0.0, 1.05])\n",
    "plt.xlabel('False Positive Rate')\n",
    "plt.ylabel('True Positive Rate')\n",
    "plt.title('ROC Curve')\n",
    "plt.legend(loc=\"upper left\")\n",
    "plt.show()"
   ]
  },
  {
   "cell_type": "markdown",
   "metadata": {},
   "source": [
    "Se comprueba como el mejor desempeño se logra con los datos sin limpiar outliers"
   ]
  },
  {
   "cell_type": "markdown",
   "metadata": {},
   "source": [
    "## Selección de datos con o sin reducción de dimensiones"
   ]
  },
  {
   "cell_type": "code",
   "execution_count": 7,
   "metadata": {},
   "outputs": [
    {
     "name": "stderr",
     "output_type": "stream",
     "text": [
      "/home/rodrigo/miniconda3/envs/proyectofinal/lib/python3.8/site-packages/lightgbm/sklearn.py:726: UserWarning: 'early_stopping_rounds' argument is deprecated and will be removed in a future release of LightGBM. Pass 'early_stopping()' callback via 'callbacks' argument instead.\n",
      "  _log_warning(\"'early_stopping_rounds' argument is deprecated and will be removed in a future release of LightGBM. \"\n",
      "/home/rodrigo/miniconda3/envs/proyectofinal/lib/python3.8/site-packages/lightgbm/sklearn.py:736: UserWarning: 'verbose' argument is deprecated and will be removed in a future release of LightGBM. Pass 'log_evaluation()' callback via 'callbacks' argument instead.\n",
      "  _log_warning(\"'verbose' argument is deprecated and will be removed in a future release of LightGBM. \"\n"
     ]
    },
    {
     "name": "stdout",
     "output_type": "stream",
     "text": [
      "[50]\tvalid_0's auc: 0.865669\tvalid_0's binary_logloss: 0.459232\n",
      "[100]\tvalid_0's auc: 0.865523\tvalid_0's binary_logloss: 0.458442\n"
     ]
    },
    {
     "data": {
      "image/png": "[encoded data removed]",
      "text/plain": [
       "<Figure size 432x288 with 1 Axes>"
      ]
     },
     "metadata": {
      "needs_background": "light"
     },
     "output_type": "display_data"
    },
    {
     "name": "stderr",
     "output_type": "stream",
     "text": [
      "/home/rodrigo/miniconda3/envs/proyectofinal/lib/python3.8/site-packages/lightgbm/sklearn.py:726: UserWarning: 'early_stopping_rounds' argument is deprecated and will be removed in a future release of LightGBM. Pass 'early_stopping()' callback via 'callbacks' argument instead.\n",
      "  _log_warning(\"'early_stopping_rounds' argument is deprecated and will be removed in a future release of LightGBM. \"\n",
      "/home/rodrigo/miniconda3/envs/proyectofinal/lib/python3.8/site-packages/lightgbm/sklearn.py:736: UserWarning: 'verbose' argument is deprecated and will be removed in a future release of LightGBM. Pass 'log_evaluation()' callback via 'callbacks' argument instead.\n",
      "  _log_warning(\"'verbose' argument is deprecated and will be removed in a future release of LightGBM. \"\n"
     ]
    },
    {
     "name": "stdout",
     "output_type": "stream",
     "text": [
      "[50]\tvalid_0's auc: 0.83605\tvalid_0's binary_logloss: 0.537014\n",
      "[100]\tvalid_0's auc: 0.861438\tvalid_0's binary_logloss: 0.487589\n"
     ]
    },
    {
     "data": {
      "image/png": "[encoded data removed]",
      "text/plain": [
       "<Figure size 432x288 with 1 Axes>"
      ]
     },
     "metadata": {
      "needs_background": "light"
     },
     "output_type": "display_data"
    }
   ],
   "source": [
    "for e in ['train_pca', 'train_modified']:\n",
    "    function_prueba_datos(e)"
   ]
  },
  {
   "cell_type": "markdown",
   "metadata": {},
   "source": [
    "Se comprueba como el conjunto de datos que mejores resultados aporta es el dataframe sin reducir dimensiones, símplemente con un under sampling"
   ]
  },
  {
   "cell_type": "markdown",
   "metadata": {},
   "source": [
    "## Selección de modelo"
   ]
  },
  {
   "cell_type": "code",
   "execution_count": 26,
   "metadata": {},
   "outputs": [],
   "source": [
    "train = pd.read_csv('/media/rodrigo/Rodrigo/train_pca.csv')\n",
    "\n",
    "under = RandomUnderSampler(sampling_strategy=0.15)\n",
    "over = RandomOverSampler(sampling_strategy=1)\n",
    "\n",
    "\n",
    "X, y = under.fit_resample(train.drop(columns=['target']), train.target)\n",
    "X, y = over.fit_resample(X, y)\n",
    "\n",
    "\n",
    "train = pd.concat([y, X], axis=1)\n",
    "\n",
    "X, y = train.drop(columns=['target']), train.target\n",
    "\n",
    "X_train, X_test, y_train, y_test = train_test_split(X, y, test_size=0.2)"
   ]
  },
  {
   "cell_type": "code",
   "execution_count": null,
   "metadata": {},
   "outputs": [],
   "source": [
    "params={'num_leaves' : hp.quniform('num_leaves', 1, 100, 2),\n",
    "\n",
    "        'max_depth' : hp.quniform('max_depth', 1, 100, 2),\n",
    "\n",
    "        'learning_rate' : hp.uniform('learning_rate', 0.0001, 1),\n",
    "\n",
    "        'n_estimators': hp.quniform('n_estimators', 10, 1000, 25),\n",
    "\n",
    "        'subsample':hp.uniform('subsample', 0.7, 1),\n",
    "\n",
    "        'random_state' : hp.quniform('random_state', 0, 10000, 1),\n",
    "        \n",
    "        'reg_lambda': hp.uniform('reg_lambda', 0, 1),\n",
    "\n",
    "        'min_child_weight': hp.quniform('min_child_weight', 1, 10, 1)\n",
    "        }"
   ]
  },
  {
   "cell_type": "code",
   "execution_count": null,
   "metadata": {},
   "outputs": [],
   "source": [
    "def objetivo(params):\n",
    "    \n",
    "    modelo=LGBMClassifier(num_leaves=int(params['num_leaves']),\n",
    "                max_depth=int(params['max_depth']),\n",
    "                learning_rate=params['learning_rate'],\n",
    "                n_estimators=int(params['n_estimators']),\n",
    "                subsample=params['subsample'],\n",
    "                random_state=int(params['random_state']),\n",
    "                min_child_weight=params['min_child_weight'],\n",
    "                reg_lambda=params['reg_lambda'])\n",
    "                    \n",
    "    eval_set=[(X_train, y_train), (X_test, y_test)]\n",
    "    \n",
    "    modelo.fit(X_train, y_train,\n",
    "               eval_set=eval_set,\n",
    "               eval_metric='auc',\n",
    "               verbose=False)\n",
    "    \n",
    "    y_pred=modelo.predict(X_test)\n",
    "    \n",
    "    rmse=mse(y_test, y_pred, squared=False)\n",
    "    \n",
    "    return {'loss': rmse, 'status': STATUS_OK}"
   ]
  },
  {
   "cell_type": "code",
   "execution_count": null,
   "metadata": {},
   "outputs": [
    {
     "name": "stdout",
     "output_type": "stream",
     "text": [
      "  0%|          | 0/25 [00:00<?, ?trial/s, best loss=?]"
     ]
    },
    {
     "name": "stderr",
     "output_type": "stream",
     "text": [
      "/home/rodrigo/miniconda3/envs/proyectofinal/lib/python3.8/site-packages/lightgbm/sklearn.py:736: UserWarning: 'verbose' argument is deprecated and will be removed in a future release of LightGBM. Pass 'log_evaluation()' callback via 'callbacks' argument instead.\n",
      "  _log_warning(\"'verbose' argument is deprecated and will be removed in a future release of LightGBM. \"\n",
      "\n"
     ]
    },
    {
     "name": "stdout",
     "output_type": "stream",
     "text": [
      "  4%|▍         | 1/25 [00:26<10:45, 26.88s/trial, best loss: 0.47158038519587786]"
     ]
    },
    {
     "name": "stderr",
     "output_type": "stream",
     "text": [
      "/home/rodrigo/miniconda3/envs/proyectofinal/lib/python3.8/site-packages/lightgbm/sklearn.py:736: UserWarning: 'verbose' argument is deprecated and will be removed in a future release of LightGBM. Pass 'log_evaluation()' callback via 'callbacks' argument instead.\n",
      "  _log_warning(\"'verbose' argument is deprecated and will be removed in a future release of LightGBM. \"\n",
      "\n"
     ]
    },
    {
     "name": "stdout",
     "output_type": "stream",
     "text": [
      "  8%|▊         | 2/25 [02:06<26:40, 69.59s/trial, best loss: 0.47158038519587786]"
     ]
    },
    {
     "name": "stderr",
     "output_type": "stream",
     "text": [
      "/home/rodrigo/miniconda3/envs/proyectofinal/lib/python3.8/site-packages/lightgbm/sklearn.py:736: UserWarning: 'verbose' argument is deprecated and will be removed in a future release of LightGBM. Pass 'log_evaluation()' callback via 'callbacks' argument instead.\n",
      "  _log_warning(\"'verbose' argument is deprecated and will be removed in a future release of LightGBM. \"\n",
      "\n"
     ]
    },
    {
     "name": "stdout",
     "output_type": "stream",
     "text": [
      " 12%|█▏        | 3/25 [06:04<53:39, 146.34s/trial, best loss: 0.47158038519587786]"
     ]
    },
    {
     "name": "stderr",
     "output_type": "stream",
     "text": [
      "/home/rodrigo/miniconda3/envs/proyectofinal/lib/python3.8/site-packages/lightgbm/sklearn.py:736: UserWarning: 'verbose' argument is deprecated and will be removed in a future release of LightGBM. Pass 'log_evaluation()' callback via 'callbacks' argument instead.\n",
      "  _log_warning(\"'verbose' argument is deprecated and will be removed in a future release of LightGBM. \"\n",
      "\n"
     ]
    },
    {
     "name": "stdout",
     "output_type": "stream",
     "text": [
      " 16%|█▌        | 4/25 [07:59<47:00, 134.30s/trial, best loss: 0.4662756001801757] "
     ]
    },
    {
     "name": "stderr",
     "output_type": "stream",
     "text": [
      "/home/rodrigo/miniconda3/envs/proyectofinal/lib/python3.8/site-packages/lightgbm/sklearn.py:736: UserWarning: 'verbose' argument is deprecated and will be removed in a future release of LightGBM. Pass 'log_evaluation()' callback via 'callbacks' argument instead.\n",
      "  _log_warning(\"'verbose' argument is deprecated and will be removed in a future release of LightGBM. \"\n",
      "\n"
     ]
    },
    {
     "name": "stdout",
     "output_type": "stream",
     "text": [
      " 20%|██        | 5/25 [08:58<35:40, 107.01s/trial, best loss: 0.4662756001801757]"
     ]
    },
    {
     "name": "stderr",
     "output_type": "stream",
     "text": [
      "/home/rodrigo/miniconda3/envs/proyectofinal/lib/python3.8/site-packages/lightgbm/sklearn.py:736: UserWarning: 'verbose' argument is deprecated and will be removed in a future release of LightGBM. Pass 'log_evaluation()' callback via 'callbacks' argument instead.\n",
      "  _log_warning(\"'verbose' argument is deprecated and will be removed in a future release of LightGBM. \"\n",
      "\n"
     ]
    },
    {
     "name": "stdout",
     "output_type": "stream",
     "text": [
      " 24%|██▍       | 6/25 [09:56<28:37, 90.38s/trial, best loss: 0.4662756001801757] "
     ]
    },
    {
     "name": "stderr",
     "output_type": "stream",
     "text": [
      "/home/rodrigo/miniconda3/envs/proyectofinal/lib/python3.8/site-packages/lightgbm/sklearn.py:736: UserWarning: 'verbose' argument is deprecated and will be removed in a future release of LightGBM. Pass 'log_evaluation()' callback via 'callbacks' argument instead.\n",
      "  _log_warning(\"'verbose' argument is deprecated and will be removed in a future release of LightGBM. \"\n",
      "\n"
     ]
    },
    {
     "name": "stdout",
     "output_type": "stream",
     "text": [
      " 28%|██▊       | 7/25 [10:48<23:17, 77.65s/trial, best loss: 0.4662756001801757]"
     ]
    },
    {
     "name": "stderr",
     "output_type": "stream",
     "text": [
      "/home/rodrigo/miniconda3/envs/proyectofinal/lib/python3.8/site-packages/lightgbm/sklearn.py:736: UserWarning: 'verbose' argument is deprecated and will be removed in a future release of LightGBM. Pass 'log_evaluation()' callback via 'callbacks' argument instead.\n",
      "  _log_warning(\"'verbose' argument is deprecated and will be removed in a future release of LightGBM. \"\n",
      "\n"
     ]
    },
    {
     "name": "stdout",
     "output_type": "stream",
     "text": [
      " 32%|███▏      | 8/25 [11:11<17:08, 60.51s/trial, best loss: 0.4662756001801757]"
     ]
    },
    {
     "name": "stderr",
     "output_type": "stream",
     "text": [
      "/home/rodrigo/miniconda3/envs/proyectofinal/lib/python3.8/site-packages/lightgbm/sklearn.py:736: UserWarning: 'verbose' argument is deprecated and will be removed in a future release of LightGBM. Pass 'log_evaluation()' callback via 'callbacks' argument instead.\n",
      "  _log_warning(\"'verbose' argument is deprecated and will be removed in a future release of LightGBM. \"\n",
      "\n"
     ]
    },
    {
     "name": "stdout",
     "output_type": "stream",
     "text": [
      " 36%|███▌      | 9/25 [12:58<19:57, 74.82s/trial, best loss: 0.4662756001801757]"
     ]
    },
    {
     "name": "stderr",
     "output_type": "stream",
     "text": [
      "/home/rodrigo/miniconda3/envs/proyectofinal/lib/python3.8/site-packages/lightgbm/sklearn.py:736: UserWarning: 'verbose' argument is deprecated and will be removed in a future release of LightGBM. Pass 'log_evaluation()' callback via 'callbacks' argument instead.\n",
      "  _log_warning(\"'verbose' argument is deprecated and will be removed in a future release of LightGBM. \"\n",
      "\n"
     ]
    },
    {
     "name": "stdout",
     "output_type": "stream",
     "text": [
      " 40%|████      | 10/25 [13:11<13:56, 55.74s/trial, best loss: 0.4662756001801757]"
     ]
    },
    {
     "name": "stderr",
     "output_type": "stream",
     "text": [
      "/home/rodrigo/miniconda3/envs/proyectofinal/lib/python3.8/site-packages/lightgbm/sklearn.py:736: UserWarning: 'verbose' argument is deprecated and will be removed in a future release of LightGBM. Pass 'log_evaluation()' callback via 'callbacks' argument instead.\n",
      "  _log_warning(\"'verbose' argument is deprecated and will be removed in a future release of LightGBM. \"\n",
      "\n"
     ]
    },
    {
     "name": "stdout",
     "output_type": "stream",
     "text": [
      " 44%|████▍     | 11/25 [13:46<11:34, 49.60s/trial, best loss: 0.4662756001801757]"
     ]
    },
    {
     "name": "stderr",
     "output_type": "stream",
     "text": [
      "/home/rodrigo/miniconda3/envs/proyectofinal/lib/python3.8/site-packages/lightgbm/sklearn.py:736: UserWarning: 'verbose' argument is deprecated and will be removed in a future release of LightGBM. Pass 'log_evaluation()' callback via 'callbacks' argument instead.\n",
      "  _log_warning(\"'verbose' argument is deprecated and will be removed in a future release of LightGBM. \"\n",
      "\n"
     ]
    },
    {
     "name": "stdout",
     "output_type": "stream",
     "text": [
      " 48%|████▊     | 12/25 [15:57<16:05, 74.27s/trial, best loss: 0.46560825247853954]"
     ]
    },
    {
     "name": "stderr",
     "output_type": "stream",
     "text": [
      "/home/rodrigo/miniconda3/envs/proyectofinal/lib/python3.8/site-packages/lightgbm/sklearn.py:736: UserWarning: 'verbose' argument is deprecated and will be removed in a future release of LightGBM. Pass 'log_evaluation()' callback via 'callbacks' argument instead.\n",
      "  _log_warning(\"'verbose' argument is deprecated and will be removed in a future release of LightGBM. \"\n",
      "\n"
     ]
    },
    {
     "name": "stdout",
     "output_type": "stream",
     "text": [
      " 52%|█████▏    | 13/25 [17:32<16:05, 80.45s/trial, best loss: 0.46560825247853954]"
     ]
    },
    {
     "name": "stderr",
     "output_type": "stream",
     "text": [
      "/home/rodrigo/miniconda3/envs/proyectofinal/lib/python3.8/site-packages/lightgbm/sklearn.py:736: UserWarning: 'verbose' argument is deprecated and will be removed in a future release of LightGBM. Pass 'log_evaluation()' callback via 'callbacks' argument instead.\n",
      "  _log_warning(\"'verbose' argument is deprecated and will be removed in a future release of LightGBM. \"\n",
      "\n"
     ]
    },
    {
     "name": "stdout",
     "output_type": "stream",
     "text": [
      " 56%|█████▌    | 14/25 [18:27<13:22, 72.95s/trial, best loss: 0.46560825247853954]"
     ]
    },
    {
     "name": "stderr",
     "output_type": "stream",
     "text": [
      "/home/rodrigo/miniconda3/envs/proyectofinal/lib/python3.8/site-packages/lightgbm/sklearn.py:736: UserWarning: 'verbose' argument is deprecated and will be removed in a future release of LightGBM. Pass 'log_evaluation()' callback via 'callbacks' argument instead.\n",
      "  _log_warning(\"'verbose' argument is deprecated and will be removed in a future release of LightGBM. \"\n",
      "\n"
     ]
    },
    {
     "name": "stdout",
     "output_type": "stream",
     "text": [
      " 60%|██████    | 15/25 [19:39<12:06, 72.66s/trial, best loss: 0.46560825247853954]"
     ]
    },
    {
     "name": "stderr",
     "output_type": "stream",
     "text": [
      "/home/rodrigo/miniconda3/envs/proyectofinal/lib/python3.8/site-packages/lightgbm/sklearn.py:736: UserWarning: 'verbose' argument is deprecated and will be removed in a future release of LightGBM. Pass 'log_evaluation()' callback via 'callbacks' argument instead.\n",
      "  _log_warning(\"'verbose' argument is deprecated and will be removed in a future release of LightGBM. \"\n",
      "\n"
     ]
    },
    {
     "name": "stdout",
     "output_type": "stream",
     "text": [
      " 64%|██████▍   | 16/25 [20:24<09:38, 64.24s/trial, best loss: 0.46560825247853954]"
     ]
    },
    {
     "name": "stderr",
     "output_type": "stream",
     "text": [
      "/home/rodrigo/miniconda3/envs/proyectofinal/lib/python3.8/site-packages/lightgbm/sklearn.py:736: UserWarning: 'verbose' argument is deprecated and will be removed in a future release of LightGBM. Pass 'log_evaluation()' callback via 'callbacks' argument instead.\n",
      "  _log_warning(\"'verbose' argument is deprecated and will be removed in a future release of LightGBM. \"\n",
      "\n"
     ]
    },
    {
     "name": "stdout",
     "output_type": "stream",
     "text": [
      " 68%|██████▊   | 17/25 [21:24<08:23, 62.90s/trial, best loss: 0.46560825247853954]"
     ]
    },
    {
     "name": "stderr",
     "output_type": "stream",
     "text": [
      "/home/rodrigo/miniconda3/envs/proyectofinal/lib/python3.8/site-packages/lightgbm/sklearn.py:736: UserWarning: 'verbose' argument is deprecated and will be removed in a future release of LightGBM. Pass 'log_evaluation()' callback via 'callbacks' argument instead.\n",
      "  _log_warning(\"'verbose' argument is deprecated and will be removed in a future release of LightGBM. \"\n",
      "\n"
     ]
    },
    {
     "name": "stdout",
     "output_type": "stream",
     "text": [
      " 72%|███████▏  | 18/25 [22:41<07:49, 67.11s/trial, best loss: 0.46560825247853954]"
     ]
    },
    {
     "name": "stderr",
     "output_type": "stream",
     "text": [
      "/home/rodrigo/miniconda3/envs/proyectofinal/lib/python3.8/site-packages/lightgbm/sklearn.py:736: UserWarning: 'verbose' argument is deprecated and will be removed in a future release of LightGBM. Pass 'log_evaluation()' callback via 'callbacks' argument instead.\n",
      "  _log_warning(\"'verbose' argument is deprecated and will be removed in a future release of LightGBM. \"\n",
      "\n"
     ]
    },
    {
     "name": "stdout",
     "output_type": "stream",
     "text": [
      " 76%|███████▌  | 19/25 [23:39<06:26, 64.34s/trial, best loss: 0.46560825247853954]"
     ]
    },
    {
     "name": "stderr",
     "output_type": "stream",
     "text": [
      "/home/rodrigo/miniconda3/envs/proyectofinal/lib/python3.8/site-packages/lightgbm/sklearn.py:736: UserWarning: 'verbose' argument is deprecated and will be removed in a future release of LightGBM. Pass 'log_evaluation()' callback via 'callbacks' argument instead.\n",
      "  _log_warning(\"'verbose' argument is deprecated and will be removed in a future release of LightGBM. \"\n",
      "\n"
     ]
    },
    {
     "name": "stdout",
     "output_type": "stream",
     "text": [
      " 80%|████████  | 20/25 [23:57<04:12, 50.43s/trial, best loss: 0.46560825247853954]"
     ]
    },
    {
     "name": "stderr",
     "output_type": "stream",
     "text": [
      "/home/rodrigo/miniconda3/envs/proyectofinal/lib/python3.8/site-packages/lightgbm/sklearn.py:736: UserWarning: 'verbose' argument is deprecated and will be removed in a future release of LightGBM. Pass 'log_evaluation()' callback via 'callbacks' argument instead.\n",
      "  _log_warning(\"'verbose' argument is deprecated and will be removed in a future release of LightGBM. \"\n",
      "\n"
     ]
    },
    {
     "name": "stdout",
     "output_type": "stream",
     "text": [
      " 84%|████████▍ | 21/25 [24:02<02:27, 36.93s/trial, best loss: 0.46560825247853954]"
     ]
    },
    {
     "name": "stderr",
     "output_type": "stream",
     "text": [
      "/home/rodrigo/miniconda3/envs/proyectofinal/lib/python3.8/site-packages/lightgbm/sklearn.py:736: UserWarning: 'verbose' argument is deprecated and will be removed in a future release of LightGBM. Pass 'log_evaluation()' callback via 'callbacks' argument instead.\n",
      "  _log_warning(\"'verbose' argument is deprecated and will be removed in a future release of LightGBM. \"\n",
      "\n"
     ]
    },
    {
     "name": "stdout",
     "output_type": "stream",
     "text": [
      " 88%|████████▊ | 22/25 [24:13<01:27, 29.04s/trial, best loss: 0.46560825247853954]"
     ]
    },
    {
     "name": "stderr",
     "output_type": "stream",
     "text": [
      "/home/rodrigo/miniconda3/envs/proyectofinal/lib/python3.8/site-packages/lightgbm/sklearn.py:736: UserWarning: 'verbose' argument is deprecated and will be removed in a future release of LightGBM. Pass 'log_evaluation()' callback via 'callbacks' argument instead.\n",
      "  _log_warning(\"'verbose' argument is deprecated and will be removed in a future release of LightGBM. \"\n",
      "\n"
     ]
    },
    {
     "name": "stdout",
     "output_type": "stream",
     "text": [
      " 92%|█████████▏| 23/25 [24:27<00:49, 24.71s/trial, best loss: 0.46560825247853954]"
     ]
    },
    {
     "name": "stderr",
     "output_type": "stream",
     "text": [
      "/home/rodrigo/miniconda3/envs/proyectofinal/lib/python3.8/site-packages/lightgbm/sklearn.py:736: UserWarning: 'verbose' argument is deprecated and will be removed in a future release of LightGBM. Pass 'log_evaluation()' callback via 'callbacks' argument instead.\n",
      "  _log_warning(\"'verbose' argument is deprecated and will be removed in a future release of LightGBM. \"\n",
      "\n"
     ]
    },
    {
     "name": "stdout",
     "output_type": "stream",
     "text": [
      " 96%|█████████▌| 24/25 [24:32<00:18, 18.83s/trial, best loss: 0.46560825247853954]"
     ]
    },
    {
     "name": "stderr",
     "output_type": "stream",
     "text": [
      "/home/rodrigo/miniconda3/envs/proyectofinal/lib/python3.8/site-packages/lightgbm/sklearn.py:736: UserWarning: 'verbose' argument is deprecated and will be removed in a future release of LightGBM. Pass 'log_evaluation()' callback via 'callbacks' argument instead.\n",
      "  _log_warning(\"'verbose' argument is deprecated and will be removed in a future release of LightGBM. \"\n",
      "\n"
     ]
    },
    {
     "name": "stdout",
     "output_type": "stream",
     "text": [
      "100%|██████████| 25/25 [25:09<00:00, 60.40s/trial, best loss: 0.46560825247853954]\n"
     ]
    },
    {
     "data": {
      "text/plain": [
       "{'learning_rate': 0.08258939227574148,\n",
       " 'max_depth': 18.0,\n",
       " 'min_child_weight': 9.0,\n",
       " 'n_estimators': 975.0,\n",
       " 'num_leaves': 34.0,\n",
       " 'random_state': 9024.0,\n",
       " 'reg_lambda': 0.8921347808090337,\n",
       " 'subsample': 0.9358071352802344}"
      ]
     },
     "execution_count": 11,
     "metadata": {},
     "output_type": "execute_result"
    }
   ],
   "source": [
    "best=fmin(fn=objetivo,\n",
    "          space=params,\n",
    "          algo=tpe.suggest,\n",
    "          max_evals=25,\n",
    "          trials=Trials())\n",
    "\n",
    "best"
   ]
  },
  {
   "cell_type": "code",
   "execution_count": 34,
   "metadata": {},
   "outputs": [
    {
     "ename": "NameError",
     "evalue": "name 'best' is not defined",
     "output_type": "error",
     "traceback": [
      "\u001b[0;31m---------------------------------------------------------------------------\u001b[0m",
      "\u001b[0;31mNameError\u001b[0m                                 Traceback (most recent call last)",
      "\u001b[0;32m<ipython-input-34-83f0427d77cb>\u001b[0m in \u001b[0;36m<module>\u001b[0;34m\u001b[0m\n\u001b[0;32m----> 1\u001b[0;31m lgbm =LGBMClassifier(num_leaves=int(best['num_leaves']),\n\u001b[0m\u001b[1;32m      2\u001b[0m         \u001b[0mmax_depth\u001b[0m\u001b[0;34m=\u001b[0m\u001b[0mint\u001b[0m\u001b[0;34m(\u001b[0m\u001b[0mbest\u001b[0m\u001b[0;34m[\u001b[0m\u001b[0;34m'max_depth'\u001b[0m\u001b[0;34m]\u001b[0m\u001b[0;34m)\u001b[0m\u001b[0;34m,\u001b[0m\u001b[0;34m\u001b[0m\u001b[0;34m\u001b[0m\u001b[0m\n\u001b[1;32m      3\u001b[0m         \u001b[0mlearning_rate\u001b[0m\u001b[0;34m=\u001b[0m\u001b[0mbest\u001b[0m\u001b[0;34m[\u001b[0m\u001b[0;34m'learning_rate'\u001b[0m\u001b[0;34m]\u001b[0m\u001b[0;34m,\u001b[0m\u001b[0;34m\u001b[0m\u001b[0;34m\u001b[0m\u001b[0m\n\u001b[1;32m      4\u001b[0m         \u001b[0mn_estimators\u001b[0m\u001b[0;34m=\u001b[0m\u001b[0mint\u001b[0m\u001b[0;34m(\u001b[0m\u001b[0mbest\u001b[0m\u001b[0;34m[\u001b[0m\u001b[0;34m'n_estimators'\u001b[0m\u001b[0;34m]\u001b[0m\u001b[0;34m)\u001b[0m\u001b[0;34m,\u001b[0m\u001b[0;34m\u001b[0m\u001b[0;34m\u001b[0m\u001b[0m\n\u001b[1;32m      5\u001b[0m         \u001b[0msubsample\u001b[0m\u001b[0;34m=\u001b[0m\u001b[0mbest\u001b[0m\u001b[0;34m[\u001b[0m\u001b[0;34m'subsample'\u001b[0m\u001b[0;34m]\u001b[0m\u001b[0;34m,\u001b[0m\u001b[0;34m\u001b[0m\u001b[0;34m\u001b[0m\u001b[0m\n",
      "\u001b[0;31mNameError\u001b[0m: name 'best' is not defined"
     ]
    }
   ],
   "source": [
    "lgbm =LGBMClassifier(num_leaves=int(best['num_leaves']),\n",
    "        max_depth=int(best['max_depth']),\n",
    "        learning_rate=best['learning_rate'],\n",
    "        n_estimators=int(best['n_estimators']),\n",
    "        subsample=best['subsample'],\n",
    "        random_state=int(best['random_state']),\n",
    "        min_child_weight=best['min_child_weight'],\n",
    "        reg_lambda=best['reg_lambda'])\n",
    "\n",
    "lgbm = lgbm.fit(X_train, y_train, eval_metric='auc', eval_set=(X_test , y_test), verbose=30, early_stopping_rounds= 50)"
   ]
  },
  {
   "cell_type": "code",
   "execution_count": 28,
   "metadata": {},
   "outputs": [
    {
     "data": {
      "image/png": "[encoded data removed]",
      "text/plain": [
       "<Figure size 432x288 with 2 Axes>"
      ]
     },
     "metadata": {
      "needs_background": "light"
     },
     "output_type": "display_data"
    }
   ],
   "source": [
    "ax=sns.heatmap(confusion_matrix(y_test, lgbm.predict(X_test))/sum(sum(confusion_matrix(y_test, lgbm.predict(X_test)))), annot=True)\n",
    "\n",
    "plt.title('Matriz confusion')\n",
    "plt.ylabel('Verdad')\n",
    "plt.xlabel('Prediccion')\n",
    "plt.show();"
   ]
  },
  {
   "cell_type": "code",
   "execution_count": 29,
   "metadata": {},
   "outputs": [
    {
     "name": "stdout",
     "output_type": "stream",
     "text": [
      "Train roc auc score for LGBM en el train:  0.9942691040490119\n",
      "Test roc auc score for LGBM en el test:  0.9734348955211595\n"
     ]
    }
   ],
   "source": [
    "print( 'Train roc auc score for LGBM en el train: ', roc_auc_score(y_train, lgbm.predict_proba(X_train)[:, 1]))\n",
    "print( 'Test roc auc score for LGBM en el test: ', roc_auc_score(y_test, lgbm.predict_proba(X_test)[:, 1]))"
   ]
  },
  {
   "cell_type": "code",
   "execution_count": 31,
   "metadata": {},
   "outputs": [
    {
     "data": {
      "image/png": "[encoded data removed]",
      "text/plain": [
       "<Figure size 432x288 with 1 Axes>"
      ]
     },
     "metadata": {
      "needs_background": "light"
     },
     "output_type": "display_data"
    }
   ],
   "source": [
    "\n",
    "fpr, tpr, _ = roc_curve(y_test, lgbm.predict_proba(X_test)[:, 1])\n",
    "roc_auc = auc(fpr, tpr)\n",
    "\n",
    "plt.figure()\n",
    "plt.plot(fpr, tpr, color='red', label='ROC curve (area = %0.3f)' % roc_auc)\n",
    "plt.plot([0, 1], [0, 1], color='black', lw=2, linestyle='--')\n",
    "plt.xlim([0.0, 1.0])\n",
    "plt.ylim([0.0, 1.05])\n",
    "plt.xlabel('False Positive Rate')\n",
    "plt.ylabel('True Positive Rate')\n",
    "plt.title('ROC Curve')\n",
    "plt.legend(loc=\"upper left\")\n",
    "plt.show()"
   ]
  },
  {
   "cell_type": "code",
   "execution_count": 33,
   "metadata": {},
   "outputs": [],
   "source": [
    "lgbm =LGBMClassifier(num_leaves=int(best['num_leaves']),\n",
    "        max_depth=int(best['max_depth']),\n",
    "        learning_rate=best['learning_rate'],\n",
    "        n_estimators=int(best['n_estimators']),\n",
    "        subsample=best['subsample'],\n",
    "        random_state=int(best['random_state']),\n",
    "        min_child_weight=best['min_child_weight'],\n",
    "        reg_lambda=best['reg_lambda'])\n",
    "\n",
    "lgbm = lgbm.fit(X, y)"
   ]
  },
  {
   "cell_type": "code",
   "execution_count": 18,
   "metadata": {},
   "outputs": [
    {
     "data": {
      "text/html": [
       "<div>\n",
       "<style scoped>\n",
       "    .dataframe tbody tr th:only-of-type {\n",
       "        vertical-align: middle;\n",
       "    }\n",
       "\n",
       "    .dataframe tbody tr th {\n",
       "        vertical-align: top;\n",
       "    }\n",
       "\n",
       "    .dataframe thead th {\n",
       "        text-align: right;\n",
       "    }\n",
       "</style>\n",
       "<table border=\"1\" class=\"dataframe\">\n",
       "  <thead>\n",
       "    <tr style=\"text-align: right;\">\n",
       "      <th></th>\n",
       "      <th>ID_code</th>\n",
       "      <th>target</th>\n",
       "    </tr>\n",
       "  </thead>\n",
       "  <tbody>\n",
       "    <tr>\n",
       "      <th>0</th>\n",
       "      <td>test_0</td>\n",
       "      <td>0</td>\n",
       "    </tr>\n",
       "    <tr>\n",
       "      <th>1</th>\n",
       "      <td>test_1</td>\n",
       "      <td>1</td>\n",
       "    </tr>\n",
       "    <tr>\n",
       "      <th>2</th>\n",
       "      <td>test_2</td>\n",
       "      <td>1</td>\n",
       "    </tr>\n",
       "    <tr>\n",
       "      <th>3</th>\n",
       "      <td>test_3</td>\n",
       "      <td>1</td>\n",
       "    </tr>\n",
       "    <tr>\n",
       "      <th>4</th>\n",
       "      <td>test_4</td>\n",
       "      <td>0</td>\n",
       "    </tr>\n",
       "  </tbody>\n",
       "</table>\n",
       "</div>"
      ],
      "text/plain": [
       "  ID_code  target\n",
       "0  test_0       0\n",
       "1  test_1       1\n",
       "2  test_2       1\n",
       "3  test_3       1\n",
       "4  test_4       0"
      ]
     },
     "execution_count": 18,
     "metadata": {},
     "output_type": "execute_result"
    }
   ],
   "source": [
    "sample = pd.read_csv('/media/rodrigo/Rodrigo/sample_submission.csv')\n",
    "sample.head()"
   ]
  },
  {
   "cell_type": "code",
   "execution_count": 32,
   "metadata": {},
   "outputs": [],
   "source": [
    "test =  pd.read_csv('/media/rodrigo/Rodrigo/test_pca.csv')\n",
    "\n",
    "sample.target=lgbm.predict(test)"
   ]
  },
  {
   "cell_type": "code",
   "execution_count": 33,
   "metadata": {},
   "outputs": [],
   "source": [
    "sample.to_csv('/media/rodrigo/Rodrigo/sample_submission.csv', index=False)"
   ]
  },
  {
   "cell_type": "code",
   "execution_count": null,
   "metadata": {},
   "outputs": [
    {
     "data": {
      "text/plain": [
       "0    148991\n",
       "1     51009\n",
       "Name: target, dtype: int64"
      ]
     },
     "execution_count": 21,
     "metadata": {},
     "output_type": "execute_result"
    }
   ],
   "source": [
    "sample.target.value_counts()"
   ]
  },
  {
   "cell_type": "markdown",
   "metadata": {},
   "source": [
    "## Catboost"
   ]
  },
  {
   "cell_type": "code",
   "execution_count": 60,
   "metadata": {},
   "outputs": [
    {
     "data": {
      "text/html": [
       "<div>\n",
       "<style scoped>\n",
       "    .dataframe tbody tr th:only-of-type {\n",
       "        vertical-align: middle;\n",
       "    }\n",
       "\n",
       "    .dataframe tbody tr th {\n",
       "        vertical-align: top;\n",
       "    }\n",
       "\n",
       "    .dataframe thead th {\n",
       "        text-align: right;\n",
       "    }\n",
       "</style>\n",
       "<table border=\"1\" class=\"dataframe\">\n",
       "  <thead>\n",
       "    <tr style=\"text-align: right;\">\n",
       "      <th></th>\n",
       "      <th>target</th>\n",
       "      <th>0</th>\n",
       "      <th>1</th>\n",
       "      <th>2</th>\n",
       "      <th>3</th>\n",
       "      <th>4</th>\n",
       "      <th>5</th>\n",
       "      <th>6</th>\n",
       "      <th>7</th>\n",
       "      <th>8</th>\n",
       "      <th>...</th>\n",
       "      <th>150</th>\n",
       "      <th>151</th>\n",
       "      <th>152</th>\n",
       "      <th>153</th>\n",
       "      <th>154</th>\n",
       "      <th>155</th>\n",
       "      <th>156</th>\n",
       "      <th>157</th>\n",
       "      <th>158</th>\n",
       "      <th>159</th>\n",
       "    </tr>\n",
       "  </thead>\n",
       "  <tbody>\n",
       "    <tr>\n",
       "      <th>0</th>\n",
       "      <td>0</td>\n",
       "      <td>1.202880</td>\n",
       "      <td>0.434793</td>\n",
       "      <td>-0.115427</td>\n",
       "      <td>0.309795</td>\n",
       "      <td>2.067826</td>\n",
       "      <td>-2.186862</td>\n",
       "      <td>1.228498</td>\n",
       "      <td>0.935727</td>\n",
       "      <td>-0.666264</td>\n",
       "      <td>...</td>\n",
       "      <td>-1.664224</td>\n",
       "      <td>-0.965100</td>\n",
       "      <td>-0.739522</td>\n",
       "      <td>0.690947</td>\n",
       "      <td>-1.026174</td>\n",
       "      <td>-1.361804</td>\n",
       "      <td>-1.988264</td>\n",
       "      <td>-0.158393</td>\n",
       "      <td>0.594740</td>\n",
       "      <td>-1.764835</td>\n",
       "    </tr>\n",
       "    <tr>\n",
       "      <th>1</th>\n",
       "      <td>0</td>\n",
       "      <td>-0.190730</td>\n",
       "      <td>-0.865197</td>\n",
       "      <td>-0.255986</td>\n",
       "      <td>0.271908</td>\n",
       "      <td>0.648502</td>\n",
       "      <td>0.977629</td>\n",
       "      <td>-0.956822</td>\n",
       "      <td>-1.581996</td>\n",
       "      <td>-0.284015</td>\n",
       "      <td>...</td>\n",
       "      <td>0.027366</td>\n",
       "      <td>0.059672</td>\n",
       "      <td>-0.467597</td>\n",
       "      <td>-0.075796</td>\n",
       "      <td>-1.956152</td>\n",
       "      <td>1.101122</td>\n",
       "      <td>0.102255</td>\n",
       "      <td>0.579432</td>\n",
       "      <td>-0.410964</td>\n",
       "      <td>-0.442821</td>\n",
       "    </tr>\n",
       "    <tr>\n",
       "      <th>2</th>\n",
       "      <td>0</td>\n",
       "      <td>0.449401</td>\n",
       "      <td>-0.271989</td>\n",
       "      <td>-0.265892</td>\n",
       "      <td>0.252464</td>\n",
       "      <td>0.245944</td>\n",
       "      <td>-0.701045</td>\n",
       "      <td>-0.222820</td>\n",
       "      <td>1.570547</td>\n",
       "      <td>0.375903</td>\n",
       "      <td>...</td>\n",
       "      <td>-0.654897</td>\n",
       "      <td>0.590264</td>\n",
       "      <td>-0.548739</td>\n",
       "      <td>-0.007143</td>\n",
       "      <td>1.188200</td>\n",
       "      <td>-1.568095</td>\n",
       "      <td>-1.819230</td>\n",
       "      <td>-0.001082</td>\n",
       "      <td>1.318933</td>\n",
       "      <td>0.825172</td>\n",
       "    </tr>\n",
       "    <tr>\n",
       "      <th>3</th>\n",
       "      <td>0</td>\n",
       "      <td>1.561438</td>\n",
       "      <td>-1.380678</td>\n",
       "      <td>-1.467586</td>\n",
       "      <td>0.451285</td>\n",
       "      <td>-1.076517</td>\n",
       "      <td>-0.170502</td>\n",
       "      <td>0.585685</td>\n",
       "      <td>-0.951785</td>\n",
       "      <td>0.101344</td>\n",
       "      <td>...</td>\n",
       "      <td>1.806890</td>\n",
       "      <td>-0.416821</td>\n",
       "      <td>1.448344</td>\n",
       "      <td>0.846795</td>\n",
       "      <td>0.361762</td>\n",
       "      <td>-1.207773</td>\n",
       "      <td>-0.445754</td>\n",
       "      <td>1.239906</td>\n",
       "      <td>-1.044641</td>\n",
       "      <td>-2.560507</td>\n",
       "    </tr>\n",
       "    <tr>\n",
       "      <th>4</th>\n",
       "      <td>0</td>\n",
       "      <td>-0.024781</td>\n",
       "      <td>0.912179</td>\n",
       "      <td>0.514192</td>\n",
       "      <td>1.856101</td>\n",
       "      <td>0.073472</td>\n",
       "      <td>0.910029</td>\n",
       "      <td>0.865872</td>\n",
       "      <td>-0.367705</td>\n",
       "      <td>-0.173410</td>\n",
       "      <td>...</td>\n",
       "      <td>0.139822</td>\n",
       "      <td>-2.315284</td>\n",
       "      <td>0.996191</td>\n",
       "      <td>-0.213339</td>\n",
       "      <td>0.664386</td>\n",
       "      <td>0.194389</td>\n",
       "      <td>0.306314</td>\n",
       "      <td>-0.473942</td>\n",
       "      <td>-0.257555</td>\n",
       "      <td>1.349675</td>\n",
       "    </tr>\n",
       "    <tr>\n",
       "      <th>...</th>\n",
       "      <td>...</td>\n",
       "      <td>...</td>\n",
       "      <td>...</td>\n",
       "      <td>...</td>\n",
       "      <td>...</td>\n",
       "      <td>...</td>\n",
       "      <td>...</td>\n",
       "      <td>...</td>\n",
       "      <td>...</td>\n",
       "      <td>...</td>\n",
       "      <td>...</td>\n",
       "      <td>...</td>\n",
       "      <td>...</td>\n",
       "      <td>...</td>\n",
       "      <td>...</td>\n",
       "      <td>...</td>\n",
       "      <td>...</td>\n",
       "      <td>...</td>\n",
       "      <td>...</td>\n",
       "      <td>...</td>\n",
       "      <td>...</td>\n",
       "    </tr>\n",
       "    <tr>\n",
       "      <th>267967</th>\n",
       "      <td>1</td>\n",
       "      <td>1.302153</td>\n",
       "      <td>-0.836024</td>\n",
       "      <td>-0.550859</td>\n",
       "      <td>-1.964646</td>\n",
       "      <td>-0.658036</td>\n",
       "      <td>-0.053709</td>\n",
       "      <td>-0.006444</td>\n",
       "      <td>-1.354238</td>\n",
       "      <td>2.569159</td>\n",
       "      <td>...</td>\n",
       "      <td>0.548725</td>\n",
       "      <td>-1.149587</td>\n",
       "      <td>1.113546</td>\n",
       "      <td>0.045016</td>\n",
       "      <td>0.806653</td>\n",
       "      <td>-1.106191</td>\n",
       "      <td>-0.043540</td>\n",
       "      <td>-0.418785</td>\n",
       "      <td>1.855703</td>\n",
       "      <td>0.370742</td>\n",
       "    </tr>\n",
       "    <tr>\n",
       "      <th>267968</th>\n",
       "      <td>1</td>\n",
       "      <td>2.596949</td>\n",
       "      <td>-0.290929</td>\n",
       "      <td>0.929598</td>\n",
       "      <td>-0.956896</td>\n",
       "      <td>-0.308478</td>\n",
       "      <td>-1.016049</td>\n",
       "      <td>0.376737</td>\n",
       "      <td>0.926662</td>\n",
       "      <td>0.318774</td>\n",
       "      <td>...</td>\n",
       "      <td>0.196232</td>\n",
       "      <td>1.091060</td>\n",
       "      <td>-0.810438</td>\n",
       "      <td>0.743956</td>\n",
       "      <td>-1.918179</td>\n",
       "      <td>0.328745</td>\n",
       "      <td>0.355072</td>\n",
       "      <td>0.903551</td>\n",
       "      <td>-1.107427</td>\n",
       "      <td>0.049278</td>\n",
       "    </tr>\n",
       "    <tr>\n",
       "      <th>267969</th>\n",
       "      <td>1</td>\n",
       "      <td>2.896161</td>\n",
       "      <td>-0.570735</td>\n",
       "      <td>-0.137380</td>\n",
       "      <td>0.861458</td>\n",
       "      <td>-0.438450</td>\n",
       "      <td>1.623232</td>\n",
       "      <td>1.556684</td>\n",
       "      <td>-1.497239</td>\n",
       "      <td>0.693056</td>\n",
       "      <td>...</td>\n",
       "      <td>-0.700548</td>\n",
       "      <td>0.501223</td>\n",
       "      <td>0.349049</td>\n",
       "      <td>-1.070997</td>\n",
       "      <td>0.303573</td>\n",
       "      <td>1.692255</td>\n",
       "      <td>-0.534895</td>\n",
       "      <td>-0.597193</td>\n",
       "      <td>-0.293082</td>\n",
       "      <td>0.635136</td>\n",
       "    </tr>\n",
       "    <tr>\n",
       "      <th>267970</th>\n",
       "      <td>1</td>\n",
       "      <td>-0.516242</td>\n",
       "      <td>-1.613553</td>\n",
       "      <td>0.046330</td>\n",
       "      <td>2.609236</td>\n",
       "      <td>-0.059480</td>\n",
       "      <td>-0.036610</td>\n",
       "      <td>0.440443</td>\n",
       "      <td>1.414530</td>\n",
       "      <td>-0.672652</td>\n",
       "      <td>...</td>\n",
       "      <td>0.549537</td>\n",
       "      <td>-0.179727</td>\n",
       "      <td>0.993425</td>\n",
       "      <td>-1.034321</td>\n",
       "      <td>-1.220413</td>\n",
       "      <td>-0.036284</td>\n",
       "      <td>0.295297</td>\n",
       "      <td>-2.592426</td>\n",
       "      <td>1.123146</td>\n",
       "      <td>1.867261</td>\n",
       "    </tr>\n",
       "    <tr>\n",
       "      <th>267971</th>\n",
       "      <td>1</td>\n",
       "      <td>0.931878</td>\n",
       "      <td>-1.513986</td>\n",
       "      <td>1.303942</td>\n",
       "      <td>-1.298742</td>\n",
       "      <td>-0.995790</td>\n",
       "      <td>-0.437990</td>\n",
       "      <td>-0.149600</td>\n",
       "      <td>-1.072361</td>\n",
       "      <td>0.277121</td>\n",
       "      <td>...</td>\n",
       "      <td>-0.106898</td>\n",
       "      <td>2.546442</td>\n",
       "      <td>1.109204</td>\n",
       "      <td>1.061978</td>\n",
       "      <td>-0.153993</td>\n",
       "      <td>1.479897</td>\n",
       "      <td>-0.351106</td>\n",
       "      <td>1.451587</td>\n",
       "      <td>0.307391</td>\n",
       "      <td>-0.696234</td>\n",
       "    </tr>\n",
       "  </tbody>\n",
       "</table>\n",
       "<p>267972 rows × 161 columns</p>\n",
       "</div>"
      ],
      "text/plain": [
       "        target         0         1         2         3         4         5  \\\n",
       "0            0  1.202880  0.434793 -0.115427  0.309795  2.067826 -2.186862   \n",
       "1            0 -0.190730 -0.865197 -0.255986  0.271908  0.648502  0.977629   \n",
       "2            0  0.449401 -0.271989 -0.265892  0.252464  0.245944 -0.701045   \n",
       "3            0  1.561438 -1.380678 -1.467586  0.451285 -1.076517 -0.170502   \n",
       "4            0 -0.024781  0.912179  0.514192  1.856101  0.073472  0.910029   \n",
       "...        ...       ...       ...       ...       ...       ...       ...   \n",
       "267967       1  1.302153 -0.836024 -0.550859 -1.964646 -0.658036 -0.053709   \n",
       "267968       1  2.596949 -0.290929  0.929598 -0.956896 -0.308478 -1.016049   \n",
       "267969       1  2.896161 -0.570735 -0.137380  0.861458 -0.438450  1.623232   \n",
       "267970       1 -0.516242 -1.613553  0.046330  2.609236 -0.059480 -0.036610   \n",
       "267971       1  0.931878 -1.513986  1.303942 -1.298742 -0.995790 -0.437990   \n",
       "\n",
       "               6         7         8  ...       150       151       152  \\\n",
       "0       1.228498  0.935727 -0.666264  ... -1.664224 -0.965100 -0.739522   \n",
       "1      -0.956822 -1.581996 -0.284015  ...  0.027366  0.059672 -0.467597   \n",
       "2      -0.222820  1.570547  0.375903  ... -0.654897  0.590264 -0.548739   \n",
       "3       0.585685 -0.951785  0.101344  ...  1.806890 -0.416821  1.448344   \n",
       "4       0.865872 -0.367705 -0.173410  ...  0.139822 -2.315284  0.996191   \n",
       "...          ...       ...       ...  ...       ...       ...       ...   \n",
       "267967 -0.006444 -1.354238  2.569159  ...  0.548725 -1.149587  1.113546   \n",
       "267968  0.376737  0.926662  0.318774  ...  0.196232  1.091060 -0.810438   \n",
       "267969  1.556684 -1.497239  0.693056  ... -0.700548  0.501223  0.349049   \n",
       "267970  0.440443  1.414530 -0.672652  ...  0.549537 -0.179727  0.993425   \n",
       "267971 -0.149600 -1.072361  0.277121  ... -0.106898  2.546442  1.109204   \n",
       "\n",
       "             153       154       155       156       157       158       159  \n",
       "0       0.690947 -1.026174 -1.361804 -1.988264 -0.158393  0.594740 -1.764835  \n",
       "1      -0.075796 -1.956152  1.101122  0.102255  0.579432 -0.410964 -0.442821  \n",
       "2      -0.007143  1.188200 -1.568095 -1.819230 -0.001082  1.318933  0.825172  \n",
       "3       0.846795  0.361762 -1.207773 -0.445754  1.239906 -1.044641 -2.560507  \n",
       "4      -0.213339  0.664386  0.194389  0.306314 -0.473942 -0.257555  1.349675  \n",
       "...          ...       ...       ...       ...       ...       ...       ...  \n",
       "267967  0.045016  0.806653 -1.106191 -0.043540 -0.418785  1.855703  0.370742  \n",
       "267968  0.743956 -1.918179  0.328745  0.355072  0.903551 -1.107427  0.049278  \n",
       "267969 -1.070997  0.303573  1.692255 -0.534895 -0.597193 -0.293082  0.635136  \n",
       "267970 -1.034321 -1.220413 -0.036284  0.295297 -2.592426  1.123146  1.867261  \n",
       "267971  1.061978 -0.153993  1.479897 -0.351106  1.451587  0.307391 -0.696234  \n",
       "\n",
       "[267972 rows x 161 columns]"
      ]
     },
     "execution_count": 60,
     "metadata": {},
     "output_type": "execute_result"
    }
   ],
   "source": [
    "trainXsmote"
   ]
  },
  {
   "cell_type": "code",
   "execution_count": 61,
   "metadata": {},
   "outputs": [
    {
     "name": "stdout",
     "output_type": "stream",
     "text": [
      "Learning rate set to 0.12608\n",
      "0:\ttest: 0.8458902\tbest: 0.8458902 (0)\ttotal: 116ms\tremaining: 1m 56s\n",
      "50:\ttest: 0.8696400\tbest: 0.8696400 (50)\ttotal: 5.44s\tremaining: 1m 41s\n",
      "100:\ttest: 0.8790880\tbest: 0.8790880 (100)\ttotal: 10.4s\tremaining: 1m 32s\n",
      "150:\ttest: 0.8891814\tbest: 0.8891814 (150)\ttotal: 15.4s\tremaining: 1m 26s\n",
      "200:\ttest: 0.8984666\tbest: 0.8984666 (200)\ttotal: 20.3s\tremaining: 1m 20s\n",
      "250:\ttest: 0.9067411\tbest: 0.9067411 (250)\ttotal: 25.3s\tremaining: 1m 15s\n",
      "300:\ttest: 0.9143594\tbest: 0.9143594 (300)\ttotal: 30.4s\tremaining: 1m 10s\n",
      "350:\ttest: 0.9209681\tbest: 0.9209681 (350)\ttotal: 35.8s\tremaining: 1m 6s\n",
      "400:\ttest: 0.9274333\tbest: 0.9274333 (400)\ttotal: 40.9s\tremaining: 1m 1s\n",
      "450:\ttest: 0.9333185\tbest: 0.9333185 (450)\ttotal: 46.2s\tremaining: 56.3s\n",
      "500:\ttest: 0.9385798\tbest: 0.9385798 (500)\ttotal: 51.3s\tremaining: 51.1s\n",
      "550:\ttest: 0.9435463\tbest: 0.9435463 (550)\ttotal: 56.1s\tremaining: 45.8s\n",
      "600:\ttest: 0.9478856\tbest: 0.9478856 (600)\ttotal: 1m 1s\tremaining: 40.6s\n",
      "650:\ttest: 0.9519292\tbest: 0.9519292 (650)\ttotal: 1m 6s\tremaining: 35.4s\n",
      "700:\ttest: 0.9557562\tbest: 0.9557562 (700)\ttotal: 1m 10s\tremaining: 30.3s\n",
      "750:\ttest: 0.9592189\tbest: 0.9592189 (750)\ttotal: 1m 15s\tremaining: 25.1s\n",
      "800:\ttest: 0.9623570\tbest: 0.9623570 (800)\ttotal: 1m 20s\tremaining: 20.1s\n",
      "850:\ttest: 0.9654208\tbest: 0.9654208 (850)\ttotal: 1m 25s\tremaining: 15s\n",
      "900:\ttest: 0.9680729\tbest: 0.9680729 (900)\ttotal: 1m 30s\tremaining: 9.98s\n",
      "950:\ttest: 0.9705403\tbest: 0.9705403 (950)\ttotal: 1m 36s\tremaining: 4.95s\n",
      "999:\ttest: 0.9728908\tbest: 0.9728908 (999)\ttotal: 1m 41s\tremaining: 0us\n",
      "\n",
      "bestTest = 0.9728907531\n",
      "bestIteration = 999\n",
      "\n"
     ]
    }
   ],
   "source": [
    "cat_boost = CatBoostClassifier(eval_metric = 'AUC')\n",
    "\n",
    "cat_boost = cat_boost.fit(train.drop(columns=['target']),train.target,eval_set=(X_test, y_test), early_stopping_rounds=70,verbose=50)"
   ]
  },
  {
   "cell_type": "code",
   "execution_count": 62,
   "metadata": {},
   "outputs": [],
   "source": [
    "test =  pd.read_csv('/media/rodrigo/Rodrigo/test_pca.csv')\n"
   ]
  },
  {
   "cell_type": "code",
   "execution_count": 63,
   "metadata": {},
   "outputs": [],
   "source": [
    "sample.target=cat_boost.predict(test)"
   ]
  },
  {
   "cell_type": "code",
   "execution_count": 64,
   "metadata": {},
   "outputs": [],
   "source": [
    "sample.to_csv('/media/rodrigo/Rodrigo/sample_submission.csv', index=False)"
   ]
  },
  {
   "cell_type": "markdown",
   "metadata": {},
   "source": [
    "## h20"
   ]
  },
  {
   "cell_type": "code",
   "execution_count": 5,
   "metadata": {},
   "outputs": [],
   "source": [
    "import h2o\n",
    "from h2o.automl import H2OAutoML"
   ]
  },
  {
   "cell_type": "code",
   "execution_count": 6,
   "metadata": {},
   "outputs": [],
   "source": [
    "train = pd.read_csv('/media/rodrigo/Rodrigo/train_modified.csv')\n",
    "test = pd.read_csv('/media/rodrigo/Rodrigo/test_modified.csv')\n",
    "sample = pd.read_csv('/media/rodrigo/Rodrigo/sample_submission.csv')\n",
    "\n",
    "under = RandomUnderSampler(sampling_strategy=1)\n",
    "\n",
    "X, y = under.fit_resample(train.drop(columns=['target']), train.target)\n",
    "\n",
    "train = pd.concat([y, X], axis=1)\n",
    "\n",
    "X, y = train.drop(columns=['target']), train.target\n",
    "\n",
    "X_train, X_test, y_train, y_test = train_test_split(X, y, test_size=0.2)"
   ]
  },
  {
   "cell_type": "code",
   "execution_count": 7,
   "metadata": {},
   "outputs": [],
   "source": [
    "def h2o_function(n_models ):\n",
    "    h2o.init()\n",
    "\n",
    "    train_h2o = h2o.H2OFrame(train)\n",
    "    test_h2o = h2o.H2OFrame(test)\n",
    "\n",
    "    X=train_h2o.columns\n",
    "    y='target'\n",
    "    X.remove(y)\n",
    "\n",
    "    train_h2o[y] = train_h2o[y].asfactor()\n",
    "\n",
    "    aml=H2OAutoML(max_models = (n_models))\n",
    "\n",
    "    aml.train(x=X, y=y, training_frame=train_h2o)\n",
    "    \n",
    "    return aml.leader.predict(test_h2o).as_data_frame()"
   ]
  },
  {
   "cell_type": "code",
   "execution_count": 8,
   "metadata": {},
   "outputs": [
    {
     "name": "stdout",
     "output_type": "stream",
     "text": [
      "Checking whether there is an H2O instance running at http://localhost:54321 ..... not found.\n",
      "Attempting to start a local H2O server...\n",
      "  Java Version: openjdk version \"11.0.13\" 2021-10-19; OpenJDK Runtime Environment (build 11.0.13+8-Ubuntu-0ubuntu1.20.04); OpenJDK 64-Bit Server VM (build 11.0.13+8-Ubuntu-0ubuntu1.20.04, mixed mode, sharing)\n",
      "  Starting server from /home/rodrigo/miniconda3/envs/proyectofinal/lib/python3.8/site-packages/h2o/backend/bin/h2o.jar\n",
      "  Ice root: /tmp/tmptw3teiwq\n",
      "  JVM stdout: /tmp/tmptw3teiwq/h2o_rodrigo_started_from_python.out\n",
      "  JVM stderr: /tmp/tmptw3teiwq/h2o_rodrigo_started_from_python.err\n",
      "  Server is running at http://127.0.0.1:54321\n",
      "Connecting to H2O server at http://127.0.0.1:54321 ... successful.\n"
     ]
    },
    {
     "data": {
      "text/html": [
       "<div style=\"overflow:auto\"><table style=\"width:50%\"><tr><td>H2O_cluster_uptime:</td>\n",
       "<td>02 secs</td></tr>\n",
       "<tr><td>H2O_cluster_timezone:</td>\n",
       "<td>Europe/Madrid</td></tr>\n",
       "<tr><td>H2O_data_parsing_timezone:</td>\n",
       "<td>UTC</td></tr>\n",
       "<tr><td>H2O_cluster_version:</td>\n",
       "<td>3.36.0.3</td></tr>\n",
       "<tr><td>H2O_cluster_version_age:</td>\n",
       "<td>20 days </td></tr>\n",
       "<tr><td>H2O_cluster_name:</td>\n",
       "<td>H2O_from_python_rodrigo_k64nc5</td></tr>\n",
       "<tr><td>H2O_cluster_total_nodes:</td>\n",
       "<td>1</td></tr>\n",
       "<tr><td>H2O_cluster_free_memory:</td>\n",
       "<td>1.680 Gb</td></tr>\n",
       "<tr><td>H2O_cluster_total_cores:</td>\n",
       "<td>8</td></tr>\n",
       "<tr><td>H2O_cluster_allowed_cores:</td>\n",
       "<td>8</td></tr>\n",
       "<tr><td>H2O_cluster_status:</td>\n",
       "<td>locked, healthy</td></tr>\n",
       "<tr><td>H2O_connection_url:</td>\n",
       "<td>http://127.0.0.1:54321</td></tr>\n",
       "<tr><td>H2O_connection_proxy:</td>\n",
       "<td>{\"http\": null, \"https\": null}</td></tr>\n",
       "<tr><td>H2O_internal_security:</td>\n",
       "<td>False</td></tr>\n",
       "<tr><td>Python_version:</td>\n",
       "<td>3.8.5 final</td></tr></table></div>"
      ],
      "text/plain": [
       "--------------------------  ------------------------------\n",
       "H2O_cluster_uptime:         02 secs\n",
       "H2O_cluster_timezone:       Europe/Madrid\n",
       "H2O_data_parsing_timezone:  UTC\n",
       "H2O_cluster_version:        3.36.0.3\n",
       "H2O_cluster_version_age:    20 days\n",
       "H2O_cluster_name:           H2O_from_python_rodrigo_k64nc5\n",
       "H2O_cluster_total_nodes:    1\n",
       "H2O_cluster_free_memory:    1.680 Gb\n",
       "H2O_cluster_total_cores:    8\n",
       "H2O_cluster_allowed_cores:  8\n",
       "H2O_cluster_status:         locked, healthy\n",
       "H2O_connection_url:         http://127.0.0.1:54321\n",
       "H2O_connection_proxy:       {\"http\": null, \"https\": null}\n",
       "H2O_internal_security:      False\n",
       "Python_version:             3.8.5 final\n",
       "--------------------------  ------------------------------"
      ]
     },
     "metadata": {},
     "output_type": "display_data"
    },
    {
     "name": "stdout",
     "output_type": "stream",
     "text": [
      "Parse progress: |████████████████████████████████████████████████████████████████| (done) 100%\n",
      "Parse progress: |████████████████████████████████████████████████████████████████| (done) 100%\n",
      "AutoML progress: |███████████████████████████████████████████████████████████████| (done) 100%\n",
      "stackedensemble prediction progress: |███████████████████████████████████████████| (done) 100%\n"
     ]
    }
   ],
   "source": [
    "solucion = h2o_function(5)"
   ]
  },
  {
   "cell_type": "code",
   "execution_count": 9,
   "metadata": {},
   "outputs": [
    {
     "data": {
      "text/plain": [
       "0    138698\n",
       "1     61302\n",
       "Name: predict, dtype: int64"
      ]
     },
     "execution_count": 9,
     "metadata": {},
     "output_type": "execute_result"
    }
   ],
   "source": [
    "solucion.predict.value_counts()"
   ]
  },
  {
   "cell_type": "code",
   "execution_count": 10,
   "metadata": {},
   "outputs": [],
   "source": [
    "sample.target = solucion.predict\n",
    "sample.to_csv('/media/rodrigo/Rodrigo/sample_submission.csv', index=False)"
   ]
  },
  {
   "cell_type": "code",
   "execution_count": null,
   "metadata": {},
   "outputs": [],
   "source": []
  }
 ],
 "metadata": {
  "interpreter": {
   "hash": "922bdd8d2e30b0326a1940d31d90fa54b03e867cc64911d4be15de571db917ad"
  },
  "kernelspec": {
   "display_name": "Python 3.8.5 ('proyectofinal')",
   "language": "python",
   "name": "python3"
  },
  "language_info": {
   "codemirror_mode": {
    "name": "ipython",
    "version": 3
   },
   "file_extension": ".py",
   "mimetype": "text/x-python",
   "name": "python",
   "nbconvert_exporter": "python",
   "pygments_lexer": "ipython3",
   "version": "3.8.5"
  },
  "orig_nbformat": 4
 },
 "nbformat": 4,
 "nbformat_minor": 2
}
